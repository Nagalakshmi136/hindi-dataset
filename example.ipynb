{
 "cells": [
  {
   "cell_type": "code",
   "execution_count": 6,
   "metadata": {},
   "outputs": [
    {
     "data": {
      "text/plain": [
       "<_io.BufferedRandom name='output_one.wav'>"
      ]
     },
     "execution_count": 6,
     "metadata": {},
     "output_type": "execute_result"
    }
   ],
   "source": [
    "from pydub import AudioSegment\n",
    "\n",
    "# Load the stereo audio file\n",
    "sound = AudioSegment.from_file('QMRJ-mEDjg4.mp3')\n",
    "\n",
    "# Convert the audio to mono\n",
    "sound = sound.set_channels(1)\n",
    "sound = sound.set_frame_rate(16000)\n",
    "# Export the mono audio to a new file\n",
    "sound.export(\"output_one.wav\", format=\"wav\")\n"
   ]
  },
  {
   "cell_type": "code",
   "execution_count": 2,
   "metadata": {},
   "outputs": [
    {
     "data": {
      "text/plain": [
       "'Desktop'"
      ]
     },
     "execution_count": 2,
     "metadata": {},
     "output_type": "execute_result"
    }
   ],
   "source": [
    "from pathlib import Path\n",
    "import os\n",
    "Path('/home/munikumar/Desktop').name"
   ]
  },
  {
   "cell_type": "code",
   "execution_count": 3,
   "metadata": {},
   "outputs": [
    {
     "name": "stdout",
     "output_type": "stream",
     "text": [
      "1hi\n"
     ]
    }
   ],
   "source": [
    "from pytube import YouTube\n",
    "from constants import BASE_URL,BASE_PATH\n",
    "videoId = 'QMRJ-mEDjg4'\n",
    "url = f\"{BASE_URL}{videoId}\"\n",
    "yt = YouTube(url)\n",
    "print('1hi')\n",
    "video = yt.streams.filter(only_audio=True).first()\n",
    "destination = BASE_PATH\n",
    "out_file = video.download(output_path=destination)\n",
    "new_file = destination / f\"{videoId}.mp3\"\n",
    "os.rename(out_file, new_file)\n"
   ]
  },
  {
   "cell_type": "code",
   "execution_count": 4,
   "metadata": {},
   "outputs": [
    {
     "name": "stdout",
     "output_type": "stream",
     "text": [
      "INFO:spleeter:Downloading model archive https://github.com/deezer/spleeter/releases/download/v1.4.0/2stems.tar.gz\n",
      "INFO:spleeter:Validating archive checksum\n",
      "INFO:spleeter:Extracting downloaded 2stems archive\n",
      "INFO:spleeter:2stems model file(s) extracted\n",
      "INFO:spleeter:File output/QMRJ-mEDjg4/vocals.wav written succesfully\n",
      "INFO:spleeter:File output/QMRJ-mEDjg4/accompaniment.wav written succesfully\n"
     ]
    },
    {
     "data": {
      "text/plain": [
       "0"
      ]
     },
     "execution_count": 4,
     "metadata": {},
     "output_type": "execute_result"
    }
   ],
   "source": [
    "os.system(\n",
    "            f\"spleeter separate -p spleeter:2stems -o output {new_file}\"\n",
    "        )"
   ]
  },
  {
   "cell_type": "code",
   "execution_count": 29,
   "metadata": {},
   "outputs": [],
   "source": [
    "from pathlib import Path\n",
    "import re"
   ]
  },
  {
   "cell_type": "code",
   "execution_count": 35,
   "metadata": {},
   "outputs": [],
   "source": [
    "file_path=\"/home/munikumar/Desktop/hindi_dataset/utils/file_utils.py\""
   ]
  },
  {
   "cell_type": "code",
   "execution_count": null,
   "metadata": {},
   "outputs": [],
   "source": []
  },
  {
   "cell_type": "code",
   "execution_count": 36,
   "metadata": {},
   "outputs": [],
   "source": [
    "with open(file_path,\"r\") as fp:\n",
    "    data=fp.read()"
   ]
  },
  {
   "cell_type": "code",
   "execution_count": 49,
   "metadata": {},
   "outputs": [],
   "source": [
    "def convert(match):\n",
    "    # Split the match by lines\n",
    "    lines = match.split(\"\\n\")\n",
    "    # Initialize an empty list to store the converted lines\n",
    "    converted = []\n",
    "    # Loop through each line\n",
    "    for line in lines:\n",
    "        # Replace \"Args:\" with \"Parameters:\"\n",
    "        line = line.replace(\"Args:\", \"Parameters:\\n    -----------\")\n",
    "        # Replace \"Raises:\" with \"Exceptions:\"\n",
    "        line = line.replace(\"Raises:\", \"Exceptions:\\n    -----------\")\n",
    "        # Replace \"Returns:\" with \"Returns:\"\n",
    "        line = line.replace(\"Returns:\", \"Returns:\\n    -------\")\n",
    "        # Replace \"(type):\" with \": `type`\"\n",
    "        line = re.sub(r\"\\((\\w+)\\):\", r\": `\\1`\", line)\n",
    "        # Add the converted line to the list\n",
    "        converted.append(line)\n",
    "    # Join the converted lines by newline and return\n",
    "    return \"\\n\".join(converted)"
   ]
  },
  {
   "cell_type": "code",
   "execution_count": 50,
   "metadata": {},
   "outputs": [
    {
     "name": "stdout",
     "output_type": "stream",
     "text": [
      "**************************************************\n",
      "before\n",
      "Checking the given path exist or not and return path if exist\n",
      "\n",
      "    Args:\n",
      "        file_path (Union[str, Path]): path of the file\n",
      "\n",
      "    Raises:\n",
      "        FileNotFoundError: if path not exist raises error\n",
      "\n",
      "    Returns:\n",
      "        Path: if path exist return path\n",
      "    \n",
      "after\n",
      "Checking the given path exist or not and return path if exist\n",
      "\n",
      "    Parameters:\n",
      "    -----------\n",
      "        file_path (Union[str, Path]): path of the file\n",
      "\n",
      "    Exceptions:\n",
      "    -----------\n",
      "        FileNotFoundError: if path not exist raises error\n",
      "\n",
      "    Returns:\n",
      "    -------\n",
      "        Path: if path exist return path\n",
      "    \n",
      "**************************************************\n",
      "before\n",
      "Load data from json file\n",
      "\n",
      "    Args:\n",
      "        file_path (Union[str, Path]): The path of the json file\n",
      "\n",
      "    Returns:\n",
      "        Any: dictionary with the data in file\n",
      "    \n",
      "after\n",
      "Load data from json file\n",
      "\n",
      "    Parameters:\n",
      "    -----------\n",
      "        file_path (Union[str, Path]): The path of the json file\n",
      "\n",
      "    Returns:\n",
      "    -------\n",
      "        Any: dictionary with the data in file\n",
      "    \n",
      "**************************************************\n",
      "before\n",
      "Creating the directory with given path\n",
      "\n",
      "    Args:\n",
      "        dir_path (Union[str, Path]): path of the directory that should create\n",
      "\n",
      "    Returns:\n",
      "        Path: Created directory path\n",
      "    \n",
      "after\n",
      "Creating the directory with given path\n",
      "\n",
      "    Parameters:\n",
      "    -----------\n",
      "        dir_path (Union[str, Path]): path of the directory that should create\n",
      "\n",
      "    Returns:\n",
      "    -------\n",
      "        Path: Created directory path\n",
      "    \n",
      "**************************************************\n",
      "before\n",
      "removing the file from given path\n",
      "\n",
      "    Args:\n",
      "        audio_file (Path): The path of the file that should remove\n",
      "    \n",
      "after\n",
      "removing the file from given path\n",
      "\n",
      "    Parameters:\n",
      "    -----------\n",
      "        audio_file : `Path` The path of the file that should remove\n",
      "    \n"
     ]
    }
   ],
   "source": [
    "\n",
    "\n",
    "# Define the pattern to match the triple quotes and the data inside them\n",
    "pattern = r'\"\"\"(.*?)\"\"\"'\n",
    "\n",
    "\n",
    "# Find all the matches using the pattern\n",
    "matches = re.findall(pattern, data, flags=re.DOTALL)\n",
    "\n",
    "# Print the matches\n",
    "for match in matches:\n",
    "    print(\"*\"*50)\n",
    "    print(\"before\")\n",
    "    print(match)\n",
    "    print(\"after\")\n",
    "    print(convert(match))\n",
    "\n"
   ]
  },
  {
   "cell_type": "code",
   "execution_count": null,
   "metadata": {},
   "outputs": [],
   "source": []
  },
  {
   "cell_type": "code",
   "execution_count": 51,
   "metadata": {},
   "outputs": [
    {
     "ename": "IndentationError",
     "evalue": "unexpected indent (2791145008.py, line 3)",
     "output_type": "error",
     "traceback": [
      "\u001b[0;36m  Cell \u001b[0;32mIn[51], line 3\u001b[0;36m\u001b[0m\n\u001b[0;31m    Args:\u001b[0m\n\u001b[0m    ^\u001b[0m\n\u001b[0;31mIndentationError\u001b[0m\u001b[0;31m:\u001b[0m unexpected indent\n"
     ]
    }
   ],
   "source": [
    "description\n",
    "\n",
    "    Args:\n",
    "        file_path (type): param_description\n",
    "\n",
    "    Raises:\n",
    "        FileNotFoundError: exception\n",
    "\n",
    "    Returns:\n",
    "        type: return text"
   ]
  },
  {
   "cell_type": "code",
   "execution_count": null,
   "metadata": {},
   "outputs": [],
   "source": [
    "description\n",
    "    Parameters:\n",
    "    -----------\n",
    "    file_path: `type`\n",
    "        param_description\n",
    "    Exceptions:\n",
    "    -----------\n",
    "    FileNotFoundError:\n",
    "        exception\n",
    "    Returns:\n",
    "    --------\n",
    "    `return_type`\n",
    "        return text\n",
    "    "
   ]
  }
 ],
 "metadata": {
  "kernelspec": {
   "display_name": "hindi-data",
   "language": "python",
   "name": "python3"
  },
  "language_info": {
   "codemirror_mode": {
    "name": "ipython",
    "version": 3
   },
   "file_extension": ".py",
   "mimetype": "text/x-python",
   "name": "python",
   "nbconvert_exporter": "python",
   "pygments_lexer": "ipython3",
   "version": "3.10.13"
  },
  "orig_nbformat": 4
 },
 "nbformat": 4,
 "nbformat_minor": 2
}
