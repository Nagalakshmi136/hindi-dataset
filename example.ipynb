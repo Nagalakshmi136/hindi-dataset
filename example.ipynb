{
 "cells": [
  {
   "cell_type": "code",
   "execution_count": null,
   "metadata": {},
   "outputs": [],
   "source": [
    "query = \"history+in+hindi\"\n"
   ]
  },
  {
   "cell_type": "code",
   "execution_count": null,
   "metadata": {},
   "outputs": [],
   "source": [
    "len(response_data)"
   ]
  },
  {
   "cell_type": "code",
   "execution_count": null,
   "metadata": {},
   "outputs": [],
   "source": [
    "\n",
    "transcript_results ={}"
   ]
  },
  {
   "cell_type": "code",
   "execution_count": null,
   "metadata": {},
   "outputs": [],
   "source": [
    "import urllib.request\n",
    "import re\n",
    "html = urllib.request.urlopen(f\"https://www.youtube.com/results?search_query={query}&sp=EgQoATAB\")\n",
    "print(html)\n",
    "video_ids = re.findall(r\"watch\\?v=(\\S{11})\", html.read().decode())\n",
    "print(video_ids)\n",
    "len(video_ids)\n",
    "from youtube_transcript_api import YouTubeTranscriptApi\n",
    "\n",
    "from tqdm import tqdm\n",
    "\n",
    "for video in tqdm(video_ids):\n",
    "    try :\n",
    "        transcript_list = YouTubeTranscriptApi.list_transcripts(video)\n",
    "        # transcript_results.append(transcript_list)\n",
    "        transcript=transcript_list.find_manually_created_transcript(language_codes=['hi'])\n",
    "        transcript_results[video]=transcript.fetch()\n",
    "            # hindi_subtitle_videos.append(videos[i][j])\n",
    "    except:\n",
    "        # print(f\"subtitles are disabled for id: {video} video\")\n",
    "        continue\n",
    "# print(len(transcript_results))"
   ]
  },
  {
   "cell_type": "code",
   "execution_count": null,
   "metadata": {},
   "outputs": [],
   "source": [
    "len(transcript_results)"
   ]
  },
  {
   "cell_type": "code",
   "execution_count": null,
   "metadata": {},
   "outputs": [],
   "source": [
    "def is_valid_hindi_transcript(transcript)->bool:\n",
    "    len_transcript = len(transcript)\n",
    "    count_empty_text = 0\n",
    "    ratio_hindi_total_text = 0\n",
    "    for i in range(len_transcript):\n",
    "        transcript_text = transcript[i].get('text')\n",
    "        if re.sub(\"[\\s+]\",\"\",transcript_text) == \"\":\n",
    "            count_empty_text += 1\n",
    "            if count_empty_text > 10:\n",
    "                return False\n",
    "            continue\n",
    "        hindi_chars = re.findall(HINDI_RE_PATTERN,transcript_text)\n",
    "        len_hindi_chars = len(hindi_chars)\n",
    "        len_total_chars = len(transcript_text)\n",
    "        if ratio_hindi_total_text == 0:\n",
    "            ratio_hindi_total_text = round(len_hindi_chars/len_total_chars,4)\n",
    "        else:\n",
    "            ratio_hindi_total_text = round((ratio_hindi_total_text+len_hindi_chars/len_total_chars)/2,4)\n",
    "    if ratio_hindi_total_text*100 > 40:\n",
    "        return True\n",
    "    return False"
   ]
  },
  {
   "cell_type": "code",
   "execution_count": null,
   "metadata": {},
   "outputs": [],
   "source": [
    "from youtube_transcript_api import YouTubeTranscriptApi\n",
    "import re\n",
    "\n",
    "transcript_list = YouTubeTranscriptApi.get_transcript('urSJV0Xwhnc',languages=['hi'])\n",
    "\n",
    "print(is_valid_hindi_transcript(transcript_list))"
   ]
  },
  {
   "cell_type": "code",
   "execution_count": null,
   "metadata": {},
   "outputs": [],
   "source": [
    "transcript_list"
   ]
  },
  {
   "cell_type": "code",
   "execution_count": null,
   "metadata": {},
   "outputs": [],
   "source": [
    "from youtube_transcript_api import YouTubeTranscriptApi\n",
    "transcript_list = YouTubeTranscriptApi.list_transcripts(\"wcvBmh59c9Q\")"
   ]
  },
  {
   "cell_type": "code",
   "execution_count": null,
   "metadata": {},
   "outputs": [],
   "source": [
    "t=transcript_list.find_manually_created_transcript(language_codes=['hi'])"
   ]
  },
  {
   "cell_type": "code",
   "execution_count": null,
   "metadata": {},
   "outputs": [],
   "source": [
    "t.fetch()[0]['duration'] == 1.0"
   ]
  },
  {
   "cell_type": "code",
   "execution_count": null,
   "metadata": {},
   "outputs": [],
   "source": [
    "\"urSJV0Xwhnc\" in video_ids \n"
   ]
  },
  {
   "cell_type": "code",
   "execution_count": null,
   "metadata": {},
   "outputs": [],
   "source": []
  },
  {
   "cell_type": "code",
   "execution_count": null,
   "metadata": {},
   "outputs": [],
   "source": [
    "from youtube_transcrip_api import YouTubeTranscriptApi\n",
    "transcript_results = {}\n",
    "try:\n",
    "    transcript_list = YouTubeTranscriptApi.list_transcripts('wcvBmh59c9Q')\n",
    "    transcript = transcript_list.find_manually_created_transcript(\n",
    "        language_codes=[\"hi\"]\n",
    "    )\n",
    "    video_transcript = transcript.fetch()\n",
    "    if is_empty_transcript(video_transcript) == False:\n",
    "        transcript_results[video] = video_transcript\n",
    "\n",
    "except:\n",
    "    print('exception')"
   ]
  },
  {
   "cell_type": "code",
   "execution_count": null,
   "metadata": {},
   "outputs": [],
   "source": [
    "conda list"
   ]
  },
  {
   "cell_type": "code",
   "execution_count": null,
   "metadata": {},
   "outputs": [],
   "source": [
    "HINDI_RE_PATTERN=r\"[\\u0900-\\u0964]\""
   ]
  },
  {
   "cell_type": "code",
   "execution_count": null,
   "metadata": {},
   "outputs": [],
   "source": [
    "import re"
   ]
  },
  {
   "cell_type": "code",
   "execution_count": null,
   "metadata": {},
   "outputs": [],
   "source": []
  },
  {
   "cell_type": "code",
   "execution_count": null,
   "metadata": {},
   "outputs": [],
   "source": [
    "print(is_valid_hindi_transcript())"
   ]
  },
  {
   "cell_type": "code",
   "execution_count": null,
   "metadata": {},
   "outputs": [],
   "source": [
    "chrs=re.findall(HINDI_RE_PATTERN,\"हमारे लिए काफी इंपोर्टेंट है जो कि सिलेबस का 90%\\xa0\\nकवर करके 50 ग्राम पार्ट से पर आते हैं तो वैकेंसी\\xa0\\xa0\")"
   ]
  },
  {
   "cell_type": "code",
   "execution_count": null,
   "metadata": {},
   "outputs": [],
   "source": [
    "text=\"हमारे लिए काफी इंपोर्टेंट है जो कि सिलेबस का 90%\\xa0\\nकवर करके 50 ग्राम पार्ट से पर आते हैं तो वैकेंसी\\xa0\\xa0\""
   ]
  },
  {
   "cell_type": "code",
   "execution_count": null,
   "metadata": {},
   "outputs": [],
   "source": [
    "len(chrs)/len(text)*100"
   ]
  },
  {
   "cell_type": "code",
   "execution_count": null,
   "metadata": {},
   "outputs": [],
   "source": [
    "len(chrs)"
   ]
  },
  {
   "cell_type": "code",
   "execution_count": null,
   "metadata": {},
   "outputs": [],
   "source": [
    "hex(2404)"
   ]
  },
  {
   "cell_type": "code",
   "execution_count": null,
   "metadata": {},
   "outputs": [],
   "source": [
    "for i in range(2304,2404):\n",
    "    print(f\"{i}: {chr(i)}\")"
   ]
  },
  {
   "cell_type": "code",
   "execution_count": null,
   "metadata": {},
   "outputs": [],
   "source": [
    "import os\n",
    "from pathlib import Path\n",
    "p = Path('/home/munikumar/Desktop/filles')\n",
    "for file in p.glob(\"*.txt\"):\n",
    "\tfile_name = file.name.lower().replace('-','_')\n",
    "\tos.system(f\"mv {file} {p}/{file_name}\")"
   ]
  },
  {
   "cell_type": "code",
   "execution_count": null,
   "metadata": {},
   "outputs": [],
   "source": [
    "from pytube import YouTube\n",
    "import moviepy.editor as mp\n",
    "# import constants as ct\n",
    "# import io\n",
    "# import tqdm "
   ]
  },
  {
   "cell_type": "code",
   "execution_count": null,
   "metadata": {},
   "outputs": [],
   "source": [
    "import whisper\n",
    "def get_audio_language(audio):\n",
    "    model = whisper.load_model('base')\n",
    "    # load audio and pad/trim it to fit 30 seconds\n",
    "    audio = whisper.load_audio(audio)\n",
    "    audio = whisper.pad_or_trim(audio)\n",
    "\n",
    "    # make log-Mel spectrogram and move to the same device as the model\n",
    "    mel = whisper.log_mel_spectrogram(audio).to(model.device)\n",
    "\n",
    "    # detect the spoken language\n",
    "    _, probs = model.detect_language(mel)\n",
    "    return max(probs, key=probs.get)\n"
   ]
  },
  {
   "cell_type": "code",
   "execution_count": null,
   "metadata": {},
   "outputs": [],
   "source": [
    "from pytube import YouTube\n",
    "import os\n",
    "import constants as ct\n",
    "def video_to_audio(videoId: str):\n",
    "    url = f\"{ct.BASE_URL}{videoId}\"\n",
    "    yt = YouTube(url)\n",
    "    video = yt.streams.filter(only_audio=True).first()\n",
    "    destination = ct.BASE_PATH/\"temp\"\n",
    "    out_file = video.download(output_path=destination)\n",
    "    print(out_file)\n",
    "    # base, ext = os.path.splitext(out_file)\n",
    "    new_file =destination/ f\"{videoId}.mp3\"\n",
    "    os.rename(out_file, new_file)\n",
    "    # print(destination)\n",
    "    audio_language = get_audio_language(new_file)\n",
    "    print(audio_language)\n",
    "    # return audio_language"
   ]
  },
  {
   "cell_type": "code",
   "execution_count": null,
   "metadata": {},
   "outputs": [],
   "source": [
    "video_to_audio('J-b3MIk8KcQ')"
   ]
  },
  {
   "cell_type": "code",
   "execution_count": null,
   "metadata": {},
   "outputs": [],
   "source": [
    "import os\n",
    "os.path.abspath(os.getcwd())\n"
   ]
  },
  {
   "cell_type": "code",
   "execution_count": null,
   "metadata": {},
   "outputs": [],
   "source": [
    "import constants as ct\n",
    "ct.BASE_PATH"
   ]
  },
  {
   "cell_type": "code",
   "execution_count": null,
   "metadata": {},
   "outputs": [],
   "source": [
    "import constants as ct\n",
    "# import shutil\n",
    "import os\n",
    "query = 'finance in hindi'\n",
    "source_path = ct.BASE_PATH + \"/J-b3MIk8KcQ.mp3\"\n",
    "destination_path = ct.BASE_PATH + \"/audio/\" + query.replace(' ','_')\n",
    "if not os.path.exists(destination_path):\n",
    "    os.makedirs(destination_path)\n",
    "destination_path += f'/J-b3MIk8KcQ.mp3'\n",
    "os.rename(source_path,destination_path)"
   ]
  },
  {
   "cell_type": "code",
   "execution_count": null,
   "metadata": {},
   "outputs": [],
   "source": []
  },
  {
   "cell_type": "code",
   "execution_count": null,
   "metadata": {},
   "outputs": [],
   "source": []
  },
  {
   "cell_type": "code",
   "execution_count": null,
   "metadata": {},
   "outputs": [],
   "source": []
  }
 ],
 "metadata": {
  "kernelspec": {
   "display_name": "hindi-data",
   "language": "python",
   "name": "python3"
  },
  "language_info": {
   "codemirror_mode": {
    "name": "ipython",
    "version": 3
   },
   "file_extension": ".py",
   "mimetype": "text/x-python",
   "name": "python",
   "nbconvert_exporter": "python",
   "pygments_lexer": "ipython3",
   "version": "3.11.5"
  },
  "orig_nbformat": 4
 },
 "nbformat": 4,
 "nbformat_minor": 2
}
