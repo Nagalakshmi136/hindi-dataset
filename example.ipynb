{
 "cells": [
  {
   "cell_type": "code",
   "execution_count": null,
   "metadata": {},
   "outputs": [],
   "source": [
    "query = \"history+in+hindi\"\n"
   ]
  },
  {
   "cell_type": "code",
   "execution_count": null,
   "metadata": {},
   "outputs": [],
   "source": [
    "len(response_data)"
   ]
  },
  {
   "cell_type": "code",
   "execution_count": null,
   "metadata": {},
   "outputs": [],
   "source": [
    "\n",
    "transcript_results ={}"
   ]
  },
  {
   "cell_type": "code",
   "execution_count": null,
   "metadata": {},
   "outputs": [],
   "source": [
    "import urllib.request\n",
    "import re\n",
    "html = urllib.request.urlopen(f\"https://www.youtube.com/results?search_query={query}&sp=EgQoATAB\")\n",
    "print(html)\n",
    "video_ids = re.findall(r\"watch\\?v=(\\S{11})\", html.read().decode())\n",
    "print(video_ids)\n",
    "len(video_ids)\n",
    "from youtube_transcript_api import YouTubeTranscriptApi\n",
    "\n",
    "from tqdm import tqdm\n",
    "\n",
    "for video in tqdm(video_ids):\n",
    "    try :\n",
    "        transcript_list = YouTubeTranscriptApi.list_transcripts(video)\n",
    "        # transcript_results.append(transcript_list)\n",
    "        transcript=transcript_list.find_manually_created_transcript(language_codes=['hi'])\n",
    "        transcript_results[video]=transcript.fetch()\n",
    "            # hindi_subtitle_videos.append(videos[i][j])\n",
    "    except:\n",
    "        # print(f\"subtitles are disabled for id: {video} video\")\n",
    "        continue\n",
    "# print(len(transcript_results))"
   ]
  },
  {
   "cell_type": "code",
   "execution_count": null,
   "metadata": {},
   "outputs": [],
   "source": [
    "len(transcript_results)"
   ]
  },
  {
   "cell_type": "code",
   "execution_count": null,
   "metadata": {},
   "outputs": [],
   "source": [
    "def is_valid_hindi_transcript(transcript)->bool:\n",
    "    len_transcript = len(transcript)\n",
    "    count_empty_text = 0\n",
    "    ratio_hindi_total_text = 0\n",
    "    for i in range(len_transcript):\n",
    "        transcript_text = transcript[i].get('text')\n",
    "        if re.sub(\"[\\s+]\",\"\",transcript_text) == \"\":\n",
    "            count_empty_text += 1\n",
    "            if count_empty_text > 10:\n",
    "                return False\n",
    "            continue\n",
    "        hindi_chars = re.findall(HINDI_RE_PATTERN,transcript_text)\n",
    "        len_hindi_chars = len(hindi_chars)\n",
    "        len_total_chars = len(transcript_text)\n",
    "        if ratio_hindi_total_text == 0:\n",
    "            ratio_hindi_total_text = round(len_hindi_chars/len_total_chars,4)\n",
    "        else:\n",
    "            ratio_hindi_total_text = round((ratio_hindi_total_text+len_hindi_chars/len_total_chars)/2,4)\n",
    "    if ratio_hindi_total_text*100 > 40:\n",
    "        return True\n",
    "    return False"
   ]
  },
  {
   "cell_type": "code",
   "execution_count": null,
   "metadata": {},
   "outputs": [],
   "source": [
    "from youtube_transcript_api import YouTubeTranscriptApi\n",
    "import re\n",
    "\n",
    "transcript_list = YouTubeTranscriptApi.get_transcript('urSJV0Xwhnc',languages=['hi'])\n",
    "\n",
    "print(is_valid_hindi_transcript(transcript_list))"
   ]
  },
  {
   "cell_type": "code",
   "execution_count": null,
   "metadata": {},
   "outputs": [],
   "source": [
    "transcript_list"
   ]
  },
  {
   "cell_type": "code",
   "execution_count": null,
   "metadata": {},
   "outputs": [],
   "source": [
    "from youtube_transcript_api import YouTubeTranscriptApi\n",
    "transcript_list = YouTubeTranscriptApi.list_transcripts(\"wcvBmh59c9Q\")"
   ]
  },
  {
   "cell_type": "code",
   "execution_count": null,
   "metadata": {},
   "outputs": [],
   "source": [
    "t=transcript_list.find_manually_created_transcript(language_codes=['hi'])"
   ]
  },
  {
   "cell_type": "code",
   "execution_count": null,
   "metadata": {},
   "outputs": [],
   "source": [
    "t.fetch()[0]['duration'] == 1.0"
   ]
  },
  {
   "cell_type": "code",
   "execution_count": null,
   "metadata": {},
   "outputs": [],
   "source": [
    "\"urSJV0Xwhnc\" in video_ids \n"
   ]
  },
  {
   "cell_type": "code",
   "execution_count": null,
   "metadata": {},
   "outputs": [],
   "source": []
  },
  {
   "cell_type": "code",
   "execution_count": null,
   "metadata": {},
   "outputs": [],
   "source": [
    "from youtube_transcrip_api import YouTubeTranscriptApi\n",
    "transcript_results = {}\n",
    "try:\n",
    "    transcript_list = YouTubeTranscriptApi.list_transcripts('wcvBmh59c9Q')\n",
    "    transcript = transcript_list.find_manually_created_transcript(\n",
    "        language_codes=[\"hi\"]\n",
    "    )\n",
    "    video_transcript = transcript.fetch()\n",
    "    if is_empty_transcript(video_transcript) == False:\n",
    "        transcript_results[video] = video_transcript\n",
    "\n",
    "except:\n",
    "    print('exception')"
   ]
  },
  {
   "cell_type": "code",
   "execution_count": null,
   "metadata": {},
   "outputs": [],
   "source": [
    "conda list"
   ]
  },
  {
   "cell_type": "code",
   "execution_count": null,
   "metadata": {},
   "outputs": [],
   "source": [
    "HINDI_RE_PATTERN=r\"[\\u0900-\\u0964]\""
   ]
  },
  {
   "cell_type": "code",
   "execution_count": null,
   "metadata": {},
   "outputs": [],
   "source": [
    "import re"
   ]
  },
  {
   "cell_type": "code",
   "execution_count": null,
   "metadata": {},
   "outputs": [],
   "source": []
  },
  {
   "cell_type": "code",
   "execution_count": null,
   "metadata": {},
   "outputs": [],
   "source": [
    "print(is_valid_hindi_transcript())"
   ]
  },
  {
   "cell_type": "code",
   "execution_count": null,
   "metadata": {},
   "outputs": [],
   "source": [
    "chrs=re.findall(HINDI_RE_PATTERN,\"हमारे लिए काफी इंपोर्टेंट है जो कि सिलेबस का 90%\\xa0\\nकवर करके 50 ग्राम पार्ट से पर आते हैं तो वैकेंसी\\xa0\\xa0\")"
   ]
  },
  {
   "cell_type": "code",
   "execution_count": null,
   "metadata": {},
   "outputs": [],
   "source": [
    "text=\"हमारे लिए काफी इंपोर्टेंट है जो कि सिलेबस का 90%\\xa0\\nकवर करके 50 ग्राम पार्ट से पर आते हैं तो वैकेंसी\\xa0\\xa0\""
   ]
  },
  {
   "cell_type": "code",
   "execution_count": null,
   "metadata": {},
   "outputs": [],
   "source": [
    "len(chrs)/len(text)*100"
   ]
  },
  {
   "cell_type": "code",
   "execution_count": null,
   "metadata": {},
   "outputs": [],
   "source": [
    "len(chrs)"
   ]
  },
  {
   "cell_type": "code",
   "execution_count": null,
   "metadata": {},
   "outputs": [],
   "source": [
    "hex(2404)"
   ]
  },
  {
   "cell_type": "code",
   "execution_count": null,
   "metadata": {},
   "outputs": [],
   "source": [
    "for i in range(2304,2404):\n",
    "    print(f\"{i}: {chr(i)}\")"
   ]
  },
  {
   "cell_type": "code",
   "execution_count": null,
   "metadata": {},
   "outputs": [],
   "source": [
    "import os\n",
    "from pathlib import Path\n",
    "p = Path('/home/munikumar/Desktop/filles')\n",
    "for file in p.glob(\"*.txt\"):\n",
    "\tfile_name = file.name.lower().replace('-','_')\n",
    "\tos.system(f\"mv {file} {p}/{file_name}\")"
   ]
  },
  {
   "cell_type": "code",
   "execution_count": null,
   "metadata": {},
   "outputs": [],
   "source": [
    "from pytube import YouTube\n",
    "import moviepy.editor as mp\n",
    "# import constants as ct\n",
    "# import io\n",
    "# import tqdm "
   ]
  },
  {
   "cell_type": "code",
   "execution_count": null,
   "metadata": {},
   "outputs": [],
   "source": [
    "import whisper\n",
    "def get_audio_language(audio):\n",
    "    model = whisper.load_model('base')\n",
    "    # load audio and pad/trim it to fit 30 seconds\n",
    "    audio = whisper.load_audio(audio)\n",
    "    audio = whisper.pad_or_trim(audio)\n",
    "\n",
    "    # make log-Mel spectrogram and move to the same device as the model\n",
    "    mel = whisper.log_mel_spectrogram(audio).to(model.device)\n",
    "\n",
    "    # detect the spoken language\n",
    "    _, probs = model.detect_language(mel)\n",
    "    return max(probs, key=probs.get)\n"
   ]
  },
  {
   "cell_type": "code",
   "execution_count": null,
   "metadata": {},
   "outputs": [],
   "source": [
    "from pytube import YouTube\n",
    "import os\n",
    "import constants as ct\n",
    "def video_to_audio(videoId: str):\n",
    "    url = f\"{ct.BASE_URL}{videoId}\"\n",
    "    yt = YouTube(url)\n",
    "    video = yt.streams.filter(only_audio=True).first()\n",
    "    destination = ct.BASE_PATH/\"temp\"\n",
    "    out_file = video.download(output_path=destination)\n",
    "    print(out_file)\n",
    "    # base, ext = os.path.splitext(out_file)\n",
    "    new_file =destination/ f\"{videoId}.mp3\"\n",
    "    os.rename(out_file, new_file)\n",
    "    # print(destination)\n",
    "    audio_language = get_audio_language(new_file)\n",
    "    print(audio_language)\n",
    "    # return audio_language"
   ]
  },
  {
   "cell_type": "code",
   "execution_count": null,
   "metadata": {},
   "outputs": [],
   "source": [
    "video_to_audio('J-b3MIk8KcQ')"
   ]
  },
  {
   "cell_type": "code",
   "execution_count": null,
   "metadata": {},
   "outputs": [],
   "source": [
    "import os\n",
    "os.path.abspath(os.getcwd())\n"
   ]
  },
  {
   "cell_type": "code",
   "execution_count": null,
   "metadata": {},
   "outputs": [],
   "source": [
    "import constants as ct\n",
    "ct.BASE_PATH"
   ]
  },
  {
   "cell_type": "code",
   "execution_count": null,
   "metadata": {},
   "outputs": [],
   "source": [
    "import constants as ct\n",
    "# import shutil\n",
    "import os\n",
    "query = 'finance in hindi'\n",
    "source_path = ct.BASE_PATH + \"/J-b3MIk8KcQ.mp3\"\n",
    "destination_path = ct.BASE_PATH + \"/audio/\" + query.replace(' ','_')\n",
    "if not os.path.exists(destination_path):\n",
    "    os.makedirs(destination_path)\n",
    "destination_path += f'/J-b3MIk8KcQ.mp3'\n",
    "os.rename(source_path,destination_path)"
   ]
  },
  {
   "cell_type": "code",
   "execution_count": null,
   "metadata": {},
   "outputs": [],
   "source": []
  },
  {
   "cell_type": "code",
   "execution_count": 1,
   "metadata": {},
   "outputs": [],
   "source": [
    "from pathlib import Path\n",
    "from utils.file_utils import load_json"
   ]
  },
  {
   "cell_type": "code",
   "execution_count": 6,
   "metadata": {},
   "outputs": [],
   "source": [
    "transcripts_path=Path(\"/home/munikumar/Desktop/hindi_dataset/transcripts\")"
   ]
  },
  {
   "cell_type": "code",
   "execution_count": 4,
   "metadata": {},
   "outputs": [],
   "source": [
    "audio_root=Path(\"/home/munikumar/Desktop/hindi_dataset/audio\")"
   ]
  },
  {
   "cell_type": "code",
   "execution_count": 6,
   "metadata": {},
   "outputs": [
    {
     "ename": "TypeError",
     "evalue": "unsupported operand type(s) for /: 'str' and 'str'",
     "output_type": "error",
     "traceback": [
      "\u001b[0;31m---------------------------------------------------------------------------\u001b[0m",
      "\u001b[0;31mTypeError\u001b[0m                                 Traceback (most recent call last)",
      "\u001b[1;32m/home/munikumar/Desktop/hindi_dataset/example.ipynb Cell 38\u001b[0m line \u001b[0;36m2\n\u001b[1;32m      <a href='vscode-notebook-cell:/home/munikumar/Desktop/hindi_dataset/example.ipynb#X52sZmlsZQ%3D%3D?line=0'>1</a>\u001b[0m \u001b[39mfrom\u001b[39;00m \u001b[39mconstants\u001b[39;00m \u001b[39mimport\u001b[39;00m BASE_PATH\n\u001b[0;32m----> <a href='vscode-notebook-cell:/home/munikumar/Desktop/hindi_dataset/example.ipynb#X52sZmlsZQ%3D%3D?line=1'>2</a>\u001b[0m \u001b[39mprint\u001b[39m(\u001b[39mtype\u001b[39m(\u001b[39mf\u001b[39m\u001b[39m'\u001b[39m\u001b[39m{\u001b[39;00mBASE_PATH\u001b[39m}\u001b[39;00m\u001b[39m'\u001b[39m\u001b[39m/\u001b[39m\u001b[39m'\u001b[39m\u001b[39maudio\u001b[39m\u001b[39m'\u001b[39m))\n",
      "\u001b[0;31mTypeError\u001b[0m: unsupported operand type(s) for /: 'str' and 'str'"
     ]
    }
   ],
   "source": [
    "from constants import BASE_PATH\n",
    "print(type(f'{BASE_PATH}'/'audio'))"
   ]
  },
  {
   "cell_type": "code",
   "execution_count": 7,
   "metadata": {},
   "outputs": [
    {
     "name": "stdout",
     "output_type": "stream",
     "text": [
      "EB9ipX6COUI [{'text': 'एक टेक्स्ट मैसेज हमारा टॉपिक है कैश विड्रॉल पर\\xa0\\nदूर चीज है एक तो है कि इस बजट में है और दूसरा है\\xa0\\xa0', 'start': 0.0, 'duration': 9.6}, {'text': 'ए केस्ट मैनेजमेंट मॉडल है हुआ है हुआ है\\xa0\\nऔर सबसे अहम बात करेंगे इस बजट के ऊपर था', 'start': 11.27, 'duration': 13.6}, {'text': 'इस वजह से विदेशी रिफाइनिंग कंपनी भी प्लान कर रही\\xa0\\nहोती है कि उसके पास फ्यूचर में एक्सपेक्टेड टो बे\\xa0\\xa0', 'start': 24.87, 'duration': 17.25}, {'text': 'रिप्लेसिड क्या आ सकती हैं और एक्सपेक्ट पेमेंट हो\\xa0\\nसके तो कंपनी अपने बजट के अंदर प्लानिंग करती है कि\\xa0\\xa0', 'start': 42.12, 'duration': 9.96}, {'text': 'उसके पास अगले कुछ टाइम पीरियड अंदर कितने सारे और\\xa0\\nसब्सक्राइब कि इस प्लानिंग का फायदा होता है यह पता\\xa0\\xa0', 'start': 52.08, 'duration': 11.17}, {'text': 'लग जाता है कि अगले छह महीने में फॉर एग्जांपल हमारे\\xa0\\nपास यह को कत्थक क्लास के इस पड़ाव काया हैं या फिर\\xa0\\xa0', 'start': 63.25, 'duration': 10.28}, {'text': 'हमारे पास डेफिसिट आ रहा होगा सर प्लस का यह हमारी\\xa0\\nरिसीप्ट कैश इनफ्लो कि हमारी पेमेंट से ज्यादा हो', 'start': 73.53, 'duration': 12.12}, {'text': 'है और डेफिसिट कब आएगा जब हमारी ऋषि लीड हमारी\\xa0\\nपेमेंट से कम होटल है तो यह उसी के लिए इन फलों\\xa0\\xa0', 'start': 87.69, 'duration': 10.27}, {'text': 'को रिप्रेजेंट कर रहा है इन फलों ज्यादा लेकिन\\xa0\\nस्थलों और यह आउटलुक रिप्रेजेंट कर रहा है पास ले\\xa0\\xa0', 'start': 97.96, 'duration': 6.84}, {'text': 'जाकर अजहर प्लस कैसा आएगा तो हमें डिसीजन लेते हैं\\xa0\\nव्हेयर टो इन्वेस्ट को सब्सक्राइब करें को आगे जाकर\\xa0\\xa0', 'start': 104.8, 'duration': 11.46}, {'text': 'डिपॉजिट कर देते डिपोजिट करेंगे तो वहां से मिले और\\xa0\\nअगर डिफरेंट होता है तो हमें फिर डिसीजन लेना होता\\xa0\\xa0', 'start': 116.26, 'duration': 8.22}, {'text': 'है फ्रॉम व्हेयर टू गौरव उसके लिए हमें चाहिए वह\\xa0\\nपंचम कहां से लें जिससे वर्किंग कैपिटल साइकिल अगर\\xa0\\xa0', 'start': 124.48, 'duration': 8.64}, {'text': 'यह तो इसके लिए उन्हें लेने पड़ते हैं तो ज्यादा\\xa0\\nतरह से पहले डिस्कस करने के लिए नियुक्त बजट बजट\\xa0\\xa0', 'start': 133.12, 'duration': 20.55}, {'text': 'बनाना घ्र आज रात जनवरी के लिए सैलरी के लिए और मार\\xa0\\nके लिए 3 महीने का बजट बनाने तो यहां पर मैं पहले\\xa0\\xa0', 'start': 153.67, 'duration': 10.57}, {'text': 'लूंगा इस फॉर्मेट में पहले दिखाऊंगा रिसीप्ट चाहिए\\xa0\\nऔर उसके बाद नीचे दिखाऊंगा अपनी तमाम पेमेंट है\\xa0\\xa0', 'start': 164.24, 'duration': 10.53}, {'text': 'अजय को है पिंपल टेरेरिस्ट मेरे पास आ गई क्या इससे\\xa0\\nअब इस महीने में एक्सपेक्ट केस्ट्रेल दूंगी इस महीने\\xa0\\xa0', 'start': 175.69, 'duration': 9.44}, {'text': 'में लिख दूंगा का योगदान के लिए मेरी एक्सपेक्टेड\\xa0\\nकैप्सूल है कैस्टर आयल में इस महीने में मैंने क्या\\xa0\\xa0', 'start': 185.13, 'duration': 8.67}, {'text': 'हो जाता है रेड्डी उस पर क्या होता है हमें जो क्या\\xa0\\nहोता है कि नहीं होता तो हमने जो कि कुंडली से हमने\\xa0\\xa0', 'start': 193.8, 'duration': 18.75}, {'text': 'इसकी कटिंग और यह हमारे पास दो अरे क्या वारियर्स\\xa0\\nटोटल रिसीप्ट्स जनवरी में है 5000 6000 से ज़्यादा\\xa0\\xa0', 'start': 212.55, 'duration': 22.23}, {'text': 'मारी इस 3 महीने की जो एक्सपेक्टेड इन वर्मा की पीठ\\xa0\\nने कहा कि हमारी टोटल ऋषि कि अगर नोट को भी रीसेंट\\xa0\\xa0', 'start': 234.78, 'duration': 10.78}, {'text': 'सॉन्ग सुनाओ भी इसके अंदर में कैंसर करेंगे तमाम\\xa0\\nरेसिपीज इन फिल्म कि उसका पेमेंट पर गए तो हम यहां\\xa0\\xa0', 'start': 245.56, 'duration': 7.59}, {'text': 'पर चेक किया अपनी पेमेंट को तो एक पेमेंट आ रही थी\\xa0\\nगैस पर चेंजेस तो गैस पर चीनी हम यहां पर ले ली है', 'start': 253.15, 'duration': 8.1}, {'text': 'और उसके बाद जो क्रेडिट पर्चेस इसके अगेंस्ट क्या\\xa0\\nस्पीड टू सप्लायर सप्ताह में सप्लायर को कैसे करना\\xa0\\xa0', 'start': 264.29, 'duration': 7.83}, {'text': 'है वह हम यहां पर ले लिया मैं यहां पर आउट हो चल रहे\\xa0\\nथे उसके साथ पर एग्जांपल कि हमें कोई मशीन खरीदनी है\\xa0\\xa0', 'start': 272.12, 'duration': 14.78}, {'text': 'उसके अगेंस्ट हमारी पेमेंट होगी फॉर एग्जांपल एंड\\xa0\\nमिसेज़ कि जिस महीने के अंदर पेमेंट होगी हमने लिख\\xa0\\xa0', 'start': 286.9, 'duration': 9.94}, {'text': 'दिया फॉर एग्जांपल ए टेक्स्ट नहीं करना है चेक से\\xa0\\nपेमेंट चीज महीने हमारा टैक्स जाएगा वह चेक हमने\\xa0\\xa0', 'start': 296.84, 'duration': 8.4}, {'text': 'इसे - कर दिया तो तमाम पेमेंट जो भी रेलिवेंट मंथ\\xa0\\nमें पेमेंट होगी वह और एलिमेंट बंद में डालने के बाद\\xa0\\xa0', 'start': 305.24, 'duration': 7.29}, {'text': 'हम ने क्या किया हमने पेमेंट कर टोटल किया तो यह आगे\\xa0\\n2508 पांच 1300 से ज़्यादा है कि यह टोटल पेमेंट है\\xa0\\xa0', 'start': 312.53, 'duration': 15.23}, {'text': 'इस वंश हमने रिसीप्ट्स और पेमेंट आईडेंटिफाइड कर ली\\xa0\\nअब हमें क्या करना है अब हमें रिसीप्ट्स और पेमेंट\\xa0\\xa0', 'start': 328.8, 'duration': 6.54}, {'text': 'को अपसेट करना है प्लस माइनस पॉइंट चाहिए उसमें\\xa0\\n220 कमेंट पोस्ट डालें 100 शीघ्र अपने कपड़े खोल दो\\xa0\\xa0', 'start': 335.34, 'duration': 14.71}, {'text': 'है तो अब हम क्या करेंगे अब हम यह करेंगे कि इसके\\xa0\\nटोटल को जो नेट ऑफ करें गांव टॉप करने का मतलब नेट\\xa0\\xa0', 'start': 350.7, 'duration': 8.94}, {'text': 'ऑफ करने का मतलब हम भी देखेंगे हां कि रिसीप्ट्स और\\xa0\\nपेमेंट में हमारे पास टोटल ने टॉप करने के बाद जो यह\\xa0\\xa0', 'start': 359.64, 'duration': 9.78}, {'text': 'तो रेस्ट ज्यादा देगी या पेमेंट याद आ जाएगी ठीक\\xa0\\nहै अगर इससे ज्यादा आएगी तो पॉजिटिव आंसर आ जाएगा\\xa0\\xa0', 'start': 369.42, 'duration': 6.87}, {'text': 'अगर पेमेंट ज्यादा देंगे तो आंसर हमारा नेगेटिव के\\xa0\\nअंदर आने दिया तो सर प्लस का यह डेफिसिट आ रहा होगा\\xa0\\xa0', 'start': 376.29, 'duration': 5.67}, {'text': 'ठीक है तो इस तरह पहले टोटल कर रहे थे रिसिप्ट कितनी\\xa0\\nहै और पेमेंट कितनी है और फिर आगे वर्किंग करते हैं\\xa0\\xa0', 'start': 381.96, 'duration': 6.72}, {'text': 'अजय को है तो दूसरी चीज कि आगे\\xa0\\nरिसीप्ट्स ओवर हिम एस ए ए फैशन शो\\xa0\\xa0', 'start': 390.45, 'duration': 9.22}, {'text': 'गुजरात पुलिस इतनी पति टार्जन की पेमेंट से 25000 की\\xa0\\nतो नेट तृषित युद्ध 15000 की स्थिति - 23-01-13 से\\xa0\\xa0', 'start': 400.55, 'duration': 10.35}, {'text': 'z60 सब्सक्राइब करें उसके बाद हमने ओपनिंग बैलेंस -\\xa0\\nभी हो सकता है सबसे पहले बजट बन रहा है तो हमारे पास', 'start': 410.9, 'duration': 27.48}, {'text': 'है का स्वरूप अरे यह तो रिसीव सिर्फ चैनल\\xa0\\nके तो जो पिछले महीने की दृष्टि से जनवरी के\\xa0\\xa0', 'start': 438.38, 'duration': 11.43}, {'text': 'ऊपर तो दिसंबर नंबर के ऊपर हमारे पास रखा होगा और\\xa0\\nहमारे पास महीने पहले था सबस्क्राइब काया काया है\\xa0\\xa0', 'start': 449.81, 'duration': 27.66}, {'text': 'इस बीच नगर प्रयास करें - करें यह भी\\xa0\\nपॉजिटिव यह भी पॉजिटिव तो बीगिनिंग में\\xa0\\xa0', 'start': 477.47, 'duration': 12.39}, {'text': 'हमारे 5,000 पड़ा हुआ था इस महीने नियुक्त\\xa0\\nप्रेक्षक नियुक्त कर रहे हैं कि हमारे पास', 'start': 489.86, 'duration': 8.67}, {'text': 'बजट में कितने महीने के अंदर हमारे पास\\xa0\\nवह सब्सक्राइब गया के महीने में बैलेंस है', 'start': 498.53, 'duration': 20.07}, {'text': '153 वर्ष के लिए बन जाएगा अपनी बैलेंस बन जाएगा अब', 'start': 520.37, 'duration': 7.26}, {'text': 'कि अब टोटल कितना हो गया है', 'start': 530.37, 'duration': 1.89}, {'text': 'कि यह फरवरी का है तो एंडिंग बैलेंस आ गया फरवरी\\xa0\\nका जो एंड इक्विवेलेंट होगा मार्च के लिए काया\\xa0\\xa0', 'start': 535.99, 'duration': 7.95}, {'text': 'मैं अपने बारे में कुछ मैं तुमको प्लस कर\\xa0\\nले लो मैं इसको प्लस करने कितना बैलेंस है', 'start': 544.79, 'duration': 9.12}, {'text': 'में 120 फोन 0 कि 12.20 चाहिए यह बता रहा है\\xa0\\nकि हमारा जो अगला महीना आएगा जनवरी का महीना\\xa0\\xa0', 'start': 558.9, 'duration': 16.95}, {'text': 'आएगा उसके बाद मार्च का महीना आएगा उसमें हमारे पास\\xa0\\nसरप्लस मौजूद होगा 20,000 जनवरी के महीने में थी से\\xa0\\xa0', 'start': 575.85, 'duration': 7.41}, {'text': 'ज़ोर मार्च के महीने में ही मतलब यह कंपनी कंपनी\\xa0\\nकी होगा तो वह सब स्कूल में कंपनी यह बात करती है', 'start': 583.26, 'duration': 15.06}, {'text': 'फोन कहां पर पैसों को इन्वेस्ट किया जाए तो कि\\xa0\\nअब एग्जाम है जो रिसीव पेमेंट में जो प्रॉब्लम है\\xa0\\xa0', 'start': 605.37, 'duration': 8.61}, {'text': 'ठीक है अगर कोई सवाल बनता है तो उसके अंदर क्रेडिट\\xa0\\nसेल्स के अगेंस्ट रिसीव निकालने प्रॉब्लम होती है\\xa0\\xa0', 'start': 613.98, 'duration': 7.29}, {'text': 'जब हम गुड्स क्रेडिट पर बेचते हैं किसी भी कस्टमर\\xa0\\nको तो मैंने डाटा मैनेजमेंट पड़ा था मुझे क्रेडिट\\xa0\\xa0', 'start': 621.27, 'duration': 7.77}, {'text': 'कि डिसाइड करते हैं इसी को 30 दिन का साइन करते\\xa0\\nहैं किसी को 7 दिन का साइन करते हैं न किसी को\\xa0\\xa0', 'start': 629.04, 'duration': 8.16}, {'text': 'नोटिस पीरियड साइन करते हैं कईं एग्जाम में जब\\xa0\\nयह पॉइंट करना होगा कि से कितना होगा तो इसके\\xa0\\xa0', 'start': 637.2, 'duration': 14.25}, {'text': 'लिए हमारे पास तेल चाहिए और पॉलिसी पर मैंने कहा कि\\xa0\\nजिससे हमारी क्रेडिट सींस पे फॉर एग्जांपल 104 चैनल\\xa0\\xa0', 'start': 651.45, 'duration': 18.3}, {'text': 'में हम क्विट सेल्फी फॉर एग्जांपल कुं0 और पेट के\\xa0\\nअंदर हमारी क्रेडिट सेल्स पे फॉर एग्जांपल 210 कि\\xa0\\xa0', 'start': 669.75, 'duration': 12.5}, {'text': 'अब इस महीने के अंदर क्रेडिट सेल हुई है ऑफिस पैसा\\xa0\\nइस महीने में तो नहीं आएगा तो क्रिकेट का मतलब आधार\\xa0\\xa0', 'start': 682.25, 'duration': 5.88}, {'text': 'तो हमें देखना पड़ेगा कि जिस नंबर की जो सील देते 1\\xa0\\nलाख की उससे कैश कब ऋषि का यह ऊपर पॉलिसी को रेफर की\\xa0\\xa0', 'start': 688.13, 'duration': 9.0}, {'text': 'कि कुछ चमर थर्टी डेज में पेश करेंगे कुछ कस्टमर\\xa0\\nसीरीज में पेश करेंगे कुछ कस्टमर जो इंडियन अर्पित\\xa0\\xa0', 'start': 698.15, 'duration': 7.41}, {'text': 'करेंगे तो यह पता होना चाहिए कितने कस्टमर था\\xa0\\nजिसमें करेंगे तो उसके लिए मैं यह सवाल के अंदर\\xa0\\xa0', 'start': 705.56, 'duration': 5.73}, {'text': 'दे दिया कि 50% कस्टमर थर्टी लेकर अंदर पर कर\\xa0\\nदेंगे एक महीने खरीदने का मतलब एक महीना दिसंबर\\xa0\\xa0', 'start': 711.29, 'duration': 7.11}, {'text': 'का मतलब साल जनवरी में जनवरी का मतलब पैक का मतलब\\xa0\\nहै नेक्स्ट महीने में मौजूद थे अच्छा-अच्छा थर्टी\\xa0\\xa0', 'start': 718.4, 'duration': 7.37}, {'text': 'परसेंट कस्टमर कार्ड दिन में बेक करेंगे और 20%\\xa0\\nअगर कस्टमर मैंने इसमें घी है तो इसका मतलब है\\xa0\\xa0', 'start': 725.77, 'duration': 8.09}, {'text': 'इस महीने में सिलूंगी उस महीने का जोक्स रिसीवर\\xa0\\nहोगा वह कुछ एक महीने में कुछ महीने में कुछ महीने', 'start': 733.86, 'duration': 9.81}, {'text': 'सब्सक्राइब टो मेरे मन मंदिर उज्जैन गैलरी में कितना\\xa0\\nरिसीव का योग न हो ए स्टडी बटन सीरवी पर मार्च में\\xa0\\xa0', 'start': 743.67, 'duration': 32.28}, {'text': 'ट्रिमिंग 20% कि हम एक जार में इस तरह से क्रेडिट\\xa0\\nबताई जाएगी और क्रेडिट सेल के बाद उसका रेल्वेची\\xa0\\xa0', 'start': 775.95, 'duration': 13.01}, {'text': 'क्रश प्रेसिडेंट बता दूं बताया जाएगा तो में निकालना\\xa0\\nहोगा कि कितने कस्टमर हमें कपड़े करेंगे और फिर हम\\xa0\\xa0', 'start': 788.96, 'duration': 6.69}, {'text': 'इसको आगे इस बजट के अंदर प्रोस्टेट को डालेंगे कि अब\\xa0\\nजैसे जनवरी की बात कर ले जनवरी की फ्रेंडशिप है 150\\xa0\\xa0', 'start': 795.65, 'duration': 9.47}, {'text': 'है इसका 150 का फिफ्टी परसेंट कब रिसीवर होगा ही', 'start': 806.2, 'duration': 6.0}, {'text': 'कि सत्येंद्र 130 वर्शन कब रिसीवर होगा बात करता\\xa0\\nहै है और इस बीच पश्चिम का व्रत होगा अप्रैल के', 'start': 814.66, 'duration': 15.99}, {'text': 'महीने का कितना कलेक्शन होगी तो एक महीने\\xa0\\nमें टोटल कलेक्शन में कितनी होगी ही\\xa0\\xa0', 'start': 830.65, 'duration': 19.65}, {'text': 'के रुझान पर पहले मेरे पास आएगा 30,000 और\\xa0\\n7500 कहीं फैट कलेक्शन कितनी होगी 1 लाख 59', 'start': 851.79, 'duration': 9.81}, {'text': 'अब सही है हुआ था कि अभिषेक एग्जांपल कर लेते हैं', 'start': 863.94, 'duration': 7.72}, {'text': 'झाला MP3', 'start': 874.08, 'duration': 2.02}, {'text': 'झाल झाल', 'start': 879.74, 'duration': 2.96}, {'text': 'लुट लुट सीबीएसई एग्जांपल', 'start': 885.21, 'duration': 3.15}, {'text': 'कर दो', 'start': 890.9, 'duration': 1.83}, {'text': 'लुट कि जब लेकिन अ\\xa0\\xa0', 'start': 894.4, 'duration': 3.87}, {'text': '9th पूर्व का तेल सबसे ज़ोर पॉलिश अनवरी फैब मानसिल\\xa0\\nmarch-april यह सेटिंग्स बताइए कि जो भी ऑल Dual ऐप', 'start': 900.03, 'duration': 12.33}, {'text': 'कि एंड एश्योर्ड टो प्ले इन द\\xa0\\nफॉलोइंग स्पेन विश्व कप ऐड करेंगे तो\\xa0\\xa0', 'start': 914.78, 'duration': 5.46}, {'text': 'कि इन मंथ ऑफ टेल्स इन मंत्रों तिल का मतलब होता है\\xa0\\nकि जिस महीने के अंदर से दुबई उस महीने में 1030 ई\\xa0\\xa0', 'start': 921.86, 'duration': 8.84}, {'text': 'कि मैं अगले महीने के अंदर पार्टी बढ़\\xa0\\nसकता तू मन की बात पट्टी पर को यह पसंद है', 'start': 931.78, 'duration': 8.67}, {'text': 'कर दो लुट लश्कर के चक्कर हंड्रेड परसेंट\\xa0\\nबना दो कि कितना परसेंटेज बनाओ टोटल है\\xa0\\xa0', 'start': 942.6, 'duration': 11.17}, {'text': 'कि यह नोटिफिकेशन पांच कहां गया है के जरिए\\xa0\\nनीचे दिखाना एंटी एक्टर्स अरे स्टॉपिंग\\xa0\\xa0', 'start': 955.27, 'duration': 8.45}, {'text': 'रिकवर्ड ए 11 अगर हम इसके बारे में भी बताया\\xa0\\nजाए एग्जांपल ए पर्सन जो कलेक्टर नहीं होता है', 'start': 963.72, 'duration': 10.92}, {'text': 'ए सईंया एंबेडेड का मतलब वह अमाउंट जो में कलेक्शन\\xa0\\nइनवेस्टमेंट डाल देंगे और तो सही जूस अब इस पॉलिसी\\xa0\\xa0', 'start': 976.72, 'duration': 10.95}, {'text': 'के एकॉर्डिंग लिए हम वर्कआउट करते हैं कैलकुलेशन\\xa0\\nअपनी तो किस महीने का निकालने अप्रैल का ठीक है\\xa0\\xa0', 'start': 987.67, 'duration': 12.18}, {'text': 'है और यह पॉलिसी हमारी है क्वालिटी पर अप्रैल\\xa0\\nका निकालने इंदौर मंदसौर का मतलब महीने में\\xa0\\xa0', 'start': 1001.06, 'duration': 8.73}, {'text': 'कि इन थे आउटर शेल एक महीने के अंदर\\xa0\\nटू मंथ्स आफ्टर सेल तय जब हम कहां\\xa0\\xa0', 'start': 1011.27, 'duration': 5.67}, {'text': 'से स्टार्ट ब्लैक हम स्टार्ट लेते हैं ने\\xa0\\nअप्रैल के लिए स्टार्ट लेते हैं हिप्स ऑर', 'start': 1016.94, 'duration': 5.1}, {'text': 'कि अगर जनवरी से स्टार्ट लें तो जनवरी का दस\\xa0\\nपरसेंट जनवरी में काया का जनवरी का पॉजिटिव\\xa0\\xa0', 'start': 1024.94, 'duration': 7.78}, {'text': '150 अंदर आपका यह और जनवरी का पाचन मार्च में\\xa0\\nआएगा तो जनवरी तो हमारी रेमिडी नहीं रहा है\\xa0\\xa0', 'start': 1032.72, 'duration': 7.17}, {'text': 'ए सईंया रे ए वेब से स्टार्ट करते\\xa0\\nहैं चैप्टर टेन परसेंट अपने कायम से\\xa0\\xa0', 'start': 1040.94, 'duration': 5.96}, {'text': 'एलिमेंट नहीं है मार्च में फटी क्वेश्चन आएगा\\xa0\\nवह हमें नहीं चाहिए अप्रैल में कितना तड़पता है\\xa0\\xa0', 'start': 1046.9, 'duration': 6.54}, {'text': 'थे सेंट्रल टीचिंग टो पैर का एप्पल के अंदर आएगा यह\\xa0\\nटेन परसेंट ओम आएगा पति पर्सन हैं सॉरी टैन बच्चन\\xa0\\xa0', 'start': 1054.43, 'duration': 9.52}, {'text': 'से अपना कायल कि बच्चन मार्च में आएगा पाचन अप्रैल\\xa0\\nमें कम ने कहा 80 का पानी निकालने यह प्लीज लाइक थिस', 'start': 1063.95, 'duration': 11.88}, {'text': '9th एडिशन रीड ओं से सटी शिक्षक अब\\xa0\\nमाझा लिए बटन मार्च और मार्च का पति\\xa0\\xa0', 'start': 1081.74, 'duration': 13.66}, {'text': 'वर्ष अप्रैल में एक आयोग ने इसी साल अप्रैल में है', 'start': 1095.4, 'duration': 11.34}, {'text': 'कि पार्टी ने बिलों को प्लस कर लें अ अजय को', 'start': 1109.65, 'duration': 5.14}, {'text': 'कि आई थिंक विद ऊ कि 500 से 1000\\xa0\\xa0', 'start': 1117.79, 'duration': 6.32}, {'text': 'के पाइप से ज़ोर रेल की रिसाइक्लिंग\\xa0\\nजो कि क्रेडिट सिस्टम जेनरेटेड ओं', 'start': 1125.01, 'duration': 7.74}, {'text': 'मैं तुझको कौन सा गया ट्रिक और\\xa0\\nसवाल कर लेते हैं उस स्तर पर आ', 'start': 1136.59, 'duration': 4.93}, {'text': 'झाल लुट', 'start': 1146.15, 'duration': 3.51}, {'text': 'मैं इंडिया', 'start': 1152.39, 'duration': 1.35}, {'text': 'झाल का हुआ था झाली हुआ था से', 'start': 1158.17, 'duration': 10.05}, {'text': 'झालू फिल्म दिस इज द क्वेश्चन अ\\xa0\\nबिजनेस फैल ऐस्टीमेटेड अट टेंपल्स\\xa0\\xa0', 'start': 1170.17, 'duration': 10.95}, {'text': 'ओं थे फेस्टिवल विल बे कंडक्टेड\\xa0\\nइसका मतलब इसका मतलब क्या होता है', 'start': 1181.12, 'duration': 12.39}, {'text': 'है तो अक्टूबर के अंदर जो सेल हुई है\\xa0\\nइससे ज़्यादा ब्रेकअप का यह एसिड उनका\\xa0\\xa0', 'start': 1198.75, 'duration': 6.69}, {'text': 'ब्रेकअप होगा टेंपल रन कैसे जाऊंगी\\xa0\\nऔर 90% होगी वो होगी तब तक के लिए', 'start': 1205.44, 'duration': 9.84}, {'text': 'कि सहित आज तक क्रेडिट सिलसिले जो पॉलिसियों पर\\xa0\\nबताइए पॉलिसी क्या है एस्टिमेटेड दैट 60% ऑफ द\\xa0\\xa0', 'start': 1219.55, 'duration': 11.37}, {'text': 'कस्टमर विल बे इन वन मंथ आफ्टर टू मंथ्स आफ्टर\\xa0\\nसे मिलते सब्सक्राइब बटन को को टोटल चेंज आरएसडी\\xa0\\xa0', 'start': 1230.92, 'duration': 15.66}, {'text': 'कॉलेज अक्टूबर-नवंबर दिसंबर-जनवरी फ्लैग मार्च है\\xa0\\nकल सुबह 3 महीने तक जा रहा है ना तो अक्टूबर-नवंबर\\xa0\\xa0', 'start': 1246.58, 'duration': 8.34}, {'text': 'में पेश करेगा फिर दिसंबर में पेश करेगा फिर जनवरी\\xa0\\nमें बकायन इसी तरह मार्च व अप्रैल के अंदर मार्च में\\xa0\\xa0', 'start': 1254.92, 'duration': 7.89}, {'text': 'भी करेगा कुछ पहले अप्रैल में दिल मे ऑफिस जून\\xa0\\nके अंदर तहत उसने हमसे बजट मांगा है पार्सल बजट\\xa0\\xa0', 'start': 1262.81, 'duration': 7.71}, {'text': 'पूछा है कब से कब तक का बजट बनाना है प्रिपेयर\\xa0\\nअमन डायमंड बजट ऑफ कैंसर रिसर्च और दमन फ्रॉम\\xa0\\xa0', 'start': 1270.52, 'duration': 8.07}, {'text': 'जनवरी से मार्च का उसको तो हमने यहां पर ले लिया\\xa0\\nऔर और यहां पर हमें क्लिक करके subscribe करे ये', 'start': 1278.59, 'duration': 15.3}, {'text': 'को एक तब हम इसकी कटिंग कर लेते कहां से स्टार्ट\\xa0\\nने अक्टूबर से स्टार्ट लें अक्टूबर से स्टार्ट\\xa0\\xa0', 'start': 1296.29, 'duration': 6.9}, {'text': 'लेते हैं अक्टूबर के अंदर टेन परसेंट तो कह चल\\xa0\\nजाएगी 2 अक्टूबर में चली जाएगी हमारे लिए तो\\xa0\\xa0', 'start': 1303.19, 'duration': 6.51}, {'text': 'हमें तो जनवरी-मार्च में अक्टूबर की जो हमारे\\xa0\\nपास रेड्डी और उसमें से 06 नवंबर 30th दिसंबर\\xa0\\xa0', 'start': 1309.7, 'duration': 18.0}, {'text': 'में और सब्सक्राइब क्र है तो अक्टूबर की तेल हमने\\xa0\\nउठाई 80 हजार उपयुक्त क्रेडिट लिया 19-वर्षीय है\\xa0\\xa0', 'start': 1327.7, 'duration': 16.31}, {'text': 'लुट और 1568 में कब कलेक्ट होगा जनवरी 11 वह 15 बटन\\xa0\\nक्लिक लिए पॉइंट है को व्हाट्सएप पर 110 300 110 002\\xa0\\xa0', 'start': 1344.96, 'duration': 22.23}, {'text': 'कि अक्टूबर हो गया अब एवं प्रकार है नवंबर\\xa0\\nकी कैंसिल नवंबर में होगी नवंबर-दिसंबर में\\xa0\\xa0', 'start': 1368.92, 'duration': 8.22}, {'text': 'जनवरी में उसके बाद इस संबंध में नंबर\\xa0\\nहमारे पास है है क्रेडिट सेल्स बनेगी वह\\xa0\\xa0', 'start': 1377.14, 'duration': 13.64}, {'text': 'कितनी बनेगी सिक्सटी थाउजेंड का 90% कहा थर्टी\\xa0\\nपरसेंट और 1600 का नौ परसेंट का फिफ्टी परसेंट\\xa0\\xa0', 'start': 1390.78, 'duration': 12.6}, {'text': 'फोन नंबर का नवंबर-दिसंबर\\xa0\\nदिन जनवरी में कितना कितना है', 'start': 1405.18, 'duration': 7.41}, {'text': '13 से ज़ में तेनजिंग MP3', 'start': 1415.98, 'duration': 9.1}, {'text': 'कि 22434 124 300 नंबरों दिसंबर में है कि पितंबर\\xa0\\nमें टेन परसेंट कैंसिल दिसंबर में जाएगी और उसके\\xa0\\xa0', 'start': 1427.18, 'duration': 18.05}, {'text': 'बाद जैन फैमास टीमों में एक आया कि यह पाटीदार लंका\\xa0\\n90% का फिफ्टी परसेंट है अजय को ब्लूटूथ सेटिंग ऑन\\xa0\\xa0', 'start': 1445.23, 'duration': 17.69}, {'text': 'कि यह शरीर इन्हीं की टीम अब इसका\\xa0\\nथर्टी परसेंट है एक पाइप और 140', 'start': 1463.95, 'duration': 13.35}, {'text': 'के लिए 200 810 श्योर हो\\xa0\\xa0', 'start': 1481.48, 'duration': 6.96}, {'text': 'कि वे दिसंबर भी कब्जा हो गया अब बचा जेनपैक्ट\\xa0\\nमार्च 2 जनवरी का डांस पर्सन जनवरी का यह 30 आ', 'start': 1489.97, 'duration': 8.94}, {'text': '90 कि कैसे यूज टैन क्वेश्चन कैंसिल होती हैं जनवरी\\xa0\\xa0', 'start': 1500.26, 'duration': 5.25}, {'text': 'में आग इन फिफ्टी थाउजेंड\\xa0\\nका नौ परसेंट का पावर यह है', 'start': 1505.51, 'duration': 8.19}, {'text': 'है कि उनका यह', 'start': 1516.56, 'duration': 2.67}, {'text': 'वैज्ञानिक 22040 प्रतिवर्ष निकाल दो', 'start': 1520.46, 'duration': 6.99}, {'text': '98100 4600 ई कैन सी द क्वेश्चन ओं\\xa0\\nकि चाहिए म्यूजिक सबसे ज़ोर का 90%\\xa0\\xa0', 'start': 1530.18, 'duration': 24.9}, {'text': 'निकालकर उसका प्रतिवर्ष निकालो आधे बैक कवर हो गया\\xa0\\nमास्टर मार्च 1000 चैनल को सब्सक्राइब कर लें और', 'start': 1555.08, 'duration': 30.09}, {'text': 'मेरे चैनल को प्लस कर लें सारी\\xa0\\nचीजें सिर्फ फिर उसके बाद मार्च से', 'start': 1589.19, 'duration': 6.09}, {'text': 'के जानकार है को 2002', 'start': 1597.57, 'duration': 1.5}, {'text': 'अपने पति ने रो फोन थे वन विच ई', 'start': 1601.72, 'duration': 7.3}, {'text': 'अपने पति से ज़ टाइप का है मैं वीडियो\\xa0\\n3000 332 मैं टी वी पर मांस का दाम', 'start': 1611.21, 'duration': 21.1}, {'text': 'लुट हिंदी शब्द नोटिफिकेशन 567 कि अ कि यह\\xa0\\nटोटल बच रिक्वायरमेंट फॉर योर बजट बन गया', 'start': 1635.69, 'duration': 17.33}, {'text': 'ए बी पी वीडियो को इस बजट को बनाने का में फायदा\\xa0\\nक्या होगा इस बजट को बनाने से नहीं पता लग जाता\\xa0\\xa0', 'start': 1655.5, 'duration': 6.09}, {'text': 'है कि हमारी फ्यूचर में एक्सपेक्टेड टो और पेमेंट\\xa0\\nमें क्या-क्या चीजें आ रही है हमें अपनी गैस को\\xa0\\xa0', 'start': 1661.59, 'duration': 7.92}, {'text': 'ब्लेंड करने में आसानी होती है सर प्लस आएगा तो\\xa0\\nडिसाइड करने में आसानी होती है कहां पर इनवेस्ट\\xa0\\xa0', 'start': 1669.51, 'duration': 4.71}, {'text': 'करना है और अगर डेफिसिट आएगा तो डिसाइड करने\\xa0\\nमें आसानी होती कहां से कैशलेस करते हैं और अगर\\xa0\\xa0', 'start': 1674.22, 'duration': 5.43}, {'text': 'डेविड आ रहा होगा तो हम यह लाइन कर सकते हैं कि\\xa0\\nअपने एक्सपेंडिचर को किस तरह से मिनीमाइज़ करें\\xa0\\xa0', 'start': 1679.65, 'duration': 5.61}, {'text': 'ताकि हमारे डेविड जो है वह लेट्यूस पोजीशन ठीक है\\xa0\\nलुट अच्छा चलते हैं कैश मैनेजमेंट मॉडल्स के ऊपर', 'start': 1685.26, 'duration': 13.86}, {'text': 'ए बिग कैट को मैनेज करना इसलिए जरूरी है कि अगर\\xa0\\nऑर्गेनाइजेशन गैस को प्रॉपरली मैसेज नहीं करती\\xa0\\xa0', 'start': 1702.31, 'duration': 11.64}, {'text': 'तो प्रॉब्लम होता है कि बाद अब आर्गनाइजेशन के\\xa0\\nपास कम हो जाता है स्टार्ट इसके लिए दो जाती है\\xa0\\xa0', 'start': 1713.95, 'duration': 7.62}, {'text': 'है और बाद अब ऑर्गनाइजेशन के पास सरप्लस क्या जमा\\xa0\\nहो जाता है जिससे अगर वो टाइम डिपॉजिट ना करवाएं तो\\xa0\\xa0', 'start': 1722.43, 'duration': 8.43}, {'text': 'उससे भी प्रॉब्लम होती है चैट स्टार्ट हो जाती है\\xa0\\nया कैश का सरप्लस आ जाता है जिसके ऊपर में अगर हम\\xa0\\xa0', 'start': 1730.86, 'duration': 13.62}, {'text': 'इनवेस्ट ना करें तो उसकी एक अपॉर्चुनिटी कॉस्ट होती\\xa0\\nहै ब्लुटूथ सेटिंग्स इंटरेस्ट लॉस्ट योर इंटरेस्ट\\xa0\\xa0', 'start': 1744.48, 'duration': 11.91}, {'text': 'कमा सकते थे वह इंटरेस्ट हमने लॉन्च करती हैं उनको\\xa0\\nरखना चाहिए अपने पास कि यह सब इन्वेंटरी के बारे में\\xa0\\xa0', 'start': 1756.39, 'duration': 13.53}, {'text': 'क्या पढ़ा था इन्वेंटरी के बारे में हमने यह पढ़ा था\\xa0\\nकि अगर कम इन्वेंटरी रखते हैं स्टॉक आउट हो जाता है\\xa0\\xa0', 'start': 1769.92, 'duration': 7.05}, {'text': 'ज्यादा इन्वेंटरी लगते हैं तो होल्डिंग कॉस्ट बढ़\\xa0\\nजाती है तो क्या किया तुमने कंफ्यूजन रॉक किया था\\xa0\\xa0', 'start': 1776.97, 'duration': 7.65}, {'text': 'कि इन्वेंटरी हमें इतनी रखनी चाहिए हमारी इन्वेंटरी\\xa0\\nकी जो कॉप्स है वह क्या हो जाए हमारी घंटे की खोजबीन\\xa0\\xa0', 'start': 1784.62, 'duration': 6.87}, {'text': 'ढूंढ चाहिए मैं इसी तरह जब हम प्याज की बात करते\\xa0\\nहैं तो कुछ वेस्ट मैनेजमेंट के लिए हमारे पास दो\\xa0\\xa0', 'start': 1791.49, 'duration': 8.17}, {'text': 'मॉडल्स ने बस के अंदर जो मिडनाइट करते हैं कि मैं\\xa0\\nकितना खुश रखना चाहिए पहला मॉडल है विश्कुल मिलर\\xa0\\xa0', 'start': 1799.66, 'duration': 11.46}, {'text': 'है और मॉडल है और दूसरा एब्स कॉल फॉर्मल्स मॉडल है\\xa0\\nकि यह तो क्या spider-man मॉडल हमारे सिलेबस कर दो\\xa0\\xa0', 'start': 1812.13, 'duration': 13.35}, {'text': 'ए पोर्टर नहीं घृत यह दोनों गैस को मैनेज करने\\xa0\\nकी हम इस तरीके बताते हैं सो लेट्स रेफर 2.1\\xa0\\xa0', 'start': 1825.48, 'duration': 11.31}, {'text': 'मिलर और क्वालिटी इसकी जो फॉर्मल है एक फार्मूले को\\xa0\\nछोड़कर बाकी फॉर्मल एजुकेशन मस्ट प्रोवाइड किया था\\xa0\\xa0', 'start': 1836.79, 'duration': 11.46}, {'text': 'कि मेरा और मॉडल जो है उसने जो मॉडल बनाया व्यक्ति\\xa0\\nके ग्राहकों को इस मॉडल की इस मॉडल में यह तो यह\\xa0\\xa0', 'start': 1849.44, 'duration': 11.76}, {'text': 'पता होना चाहिए कि उसके पास उसे मैक्सिमम कितने की\\xa0\\nजरूरत होगी और यह पता होना चाहिए कि मिनिमम कितना है\\xa0\\xa0', 'start': 1861.2, 'duration': 14.1}, {'text': 'है यानि कि यह मॉडल हमें कैसा है कि आप यह पॉइंट\\xa0\\nकर लें अब इस मिनिमम बैलेंस कितना है यह फाइनल कर\\xa0\\xa0', 'start': 1875.8, 'duration': 6.24}, {'text': 'लें मैक्सिमम कैश विड्रॉल रहिए और इन दोनों\\xa0\\nके दरमियान कहीं बीच में आस-पास ही होती है\\xa0\\xa0', 'start': 1882.04, 'duration': 7.59}, {'text': 'इस कॉर्ड रिटर्न पॉइंट है ए सईंया अपग्रेडेशन क्या\\xa0\\nहो रहा होगा कभी कैसा रहा होगा कभी कह जा रहा होगा\\xa0\\xa0', 'start': 1889.63, 'duration': 11.96}, {'text': 'तो इस बूट भी लाइक के कुछ इस तरह से मूवमेंट\\xa0\\nहो रहे होंगे कि एक वक्त आएगा कि कैच कहां पर\\xa0\\xa0', 'start': 1901.59, 'duration': 7.74}, {'text': 'पहुंच जाए का या पर लिमिट के ऊपर पहुंच जाएगा\\xa0\\nइस को मैक्सिमम गैस को अपर लिमिट भी कहते हैं\\xa0\\xa0', 'start': 1909.33, 'duration': 7.2}, {'text': 'कि जब कैश अप्पर लिमिट पर पहुंचे गर्म तो वह हमें एक\\xa0\\nअलार्म इन सिचुएशंस बताया जाए इंडिकेटर बताएगा गैस\\xa0\\xa0', 'start': 1917.92, 'duration': 6.9}, {'text': 'को कम होना चाहिए तो बढ़ता जा रहा है हमारे पास\\xa0\\nसरप्लस कैश जमा हो रहा है तो मैं यहां पर और हम', 'start': 1924.82, 'duration': 10.02}, {'text': 'सब्सक्राइब कर लें यह शॉर्ट टर्म इक्विटी\\xa0\\nइनवेस्टमेंट कि युद्ध जैसी स्थिति कायम कर', 'start': 1934.84, 'duration': 18.15}, {'text': 'दो तो फिर वो इसी तरह से होता रहेगा फिर अचानक से\\xa0\\nक्या हुआ कि कैश मिनिमम पर आगे जब कैश मिनट पकाया\\xa0\\xa0', 'start': 1952.99, 'duration': 13.36}, {'text': 'इसका मतलब कैश की जरूरत है कस्टम और है मेरे\\xa0\\nपास इसको जो हमने सिक्योरिटीज खरीदनी होंगी ना\\xa0\\xa0', 'start': 1966.35, 'duration': 7.38}, {'text': 'वह सिक्योरिटीज हम भेज देंगे ताकि आप होना चाहिए\\xa0\\nकि बॉल इसके आस पास होना चाहिए अगर वह पॉइंट्स\\xa0\\xa0', 'start': 1973.73, 'duration': 31.08}, {'text': 'पर पहुंच गई है ए स्टॉर्म सिक्योरिटी बाइक कर\\xa0\\nलें टोटल सिक्योरिटी इसका मतलब और सिक्योरिटीज\\xa0\\xa0', 'start': 2004.81, 'duration': 10.32}, {'text': 'जिसको इजीलि कैश में बाद में कंवर्ट करवाया\\xa0\\nजा सका ओ और अगर कैश लोअर साइड से जाएगा तो\\xa0\\xa0', 'start': 2015.13, 'duration': 7.62}, {'text': 'हम अगर हमारे पास शॉर्ट टर्म सिक्योरिटी होगी तो\\xa0\\nहम उच्चतम सिक्योरिटी सेल कर देंगे ताकि हमारे\\xa0\\xa0', 'start': 2022.75, 'duration': 5.31}, {'text': 'पास जो भी पैसों की कमी है वह पूरी हो जाती है\\xa0\\n28 मॉडल के अंदर जो डिफ्रेंस है कितना अप्पर\\xa0\\xa0', 'start': 2028.06, 'duration': 10.32}, {'text': 'लिमिट का और लोअर लिमिट करके डिफरेंट जन्म इसके\\xa0\\nलिए इतने टाइम इस्तेमाल की है इसको कहते हैं इस\\xa0\\xa0', 'start': 2038.38, 'duration': 9.09}, {'text': 'फ्रेंड अगर आप अनलिमिटेड और लोअर लिमिट होगा का\\xa0\\nयह जार का यह बता रहा है यह यह है कि डिस्टेंस\\xa0\\xa0', 'start': 2047.47, 'duration': 18.36}, {'text': 'बिटवीन मैक्सिमम वॉल्यूम मिनिमम डिस्टेंस बिटवीन\\xa0\\nपीपल कुछ लोग यह एग्जाम में में कैलकुलेट करने\\xa0\\xa0', 'start': 2065.83, 'duration': 6.82}, {'text': 'को दिया जाएगा कि आप ऊपर स्प्रेड निकालूंगी यह\\xa0\\nसाइड इफेक्ट तो इस प्रेड निकालने का एक और बोला\\xa0\\xa0', 'start': 2072.65, 'duration': 7.02}, {'text': 'है और वह फॉर्मूला आपको एग्जाम के अंदर प्रोवाइड\\xa0\\nकिया जाएगा कि इस पर एक तरह से निकालते हैं चाहिए', 'start': 2079.67, 'duration': 6.06}, {'text': 'यहां पर भूलें इसके जो भी ग्राम\\xa0\\nप्रोवाइड किए जाएंगे वह मैं दे रहा हूं', 'start': 2088.1, 'duration': 3.18}, {'text': 'हैं उन कामों को मैसेज एक मामला याद कर रहे बाकी\\xa0\\nकोई फॉर्मल आयात करने की जरूरत नहीं है यह और मेरे\\xa0\\xa0', 'start': 2093.96, 'duration': 7.05}, {'text': 'दिए हैं का पहला प्रॉब्लम स्प्रेड निकालने का\\xa0\\nफार्मूला निकालने के लिए फॉर्म में दिया गया बस\\xa0\\xa0', 'start': 2101.01, 'duration': 12.7}, {'text': 'कि ब्रेड के बाद फ्री पॉर्न चार ब्रेड के\\xa0\\nअंदर लुट यह मल्टिप्लाई और है ट्रांजैक्शन\\xa0\\xa0', 'start': 2115.33, 'duration': 7.05}, {'text': 'कॉस्ट के साथ यह मल्टीपल का और है वैरीअंट\\xa0\\nआफ फैसलों के साथ और नीचे डिवाइड हो रहा\\xa0\\xa0', 'start': 2122.38, 'duration': 5.28}, {'text': 'है इंटरेस्ट रेट यह जो इंटरेस्ट रेट है\\xa0\\nयह इंटरेस्ट रेट होने चाहिए पर डे एगो', 'start': 2127.66, 'duration': 5.94}, {'text': 'में पड़े इंटरेस्ट होनी चाहिए चाहिए\\xa0\\nतो इस हटाने के बाद निकालते हैं\\xa0\\xa0', 'start': 2136.03, 'duration': 15.18}, {'text': 'अच्छा रिटर्न पॉइंट्स का फॉर्मूला है लोअर लिमिट\\xa0\\nएग्जाम में गिवर होगी और one-third आफ स्प्रेड\\xa0\\xa0', 'start': 2153.55, 'duration': 5.91}, {'text': 'लोअर लिमिट माइंड आफ रिटर्न पॉइंट ढलना पड़ेगा ही\\xa0\\nहैं और अगर मुझे अप्पर लिमिट निकाल है तो अप्पर\\xa0\\xa0', 'start': 2159.46, 'duration': 9.45}, {'text': 'लिमिट के लिए मुझे लोअर लिमिट यह में होगी इस प्लेट\\xa0\\nमें निकाल लिया होगा हम दोनों को क्लास करूंगा तो\\xa0\\xa0', 'start': 2168.91, 'duration': 5.49}, {'text': 'अप्पर लिमिट आ जाएगी ग्रेटर नोएडा जाएगा और इस प्रेड\\xa0\\nमें इस फॉर्म्युले से निकाल सके है तो इसे पॉट में\\xa0\\xa0', 'start': 2174.4, 'duration': 8.96}, {'text': 'अप्लाई करना है और फॉर एग्जामनिंग बनोगे इशारे को\\xa0\\nमैक्सिमम लिए क्या करना है बालों में अप्लाई करते\\xa0\\xa0', 'start': 2183.36, 'duration': 6.63}, {'text': 'तो एग्जांपल कर लेते हैं क्या चीज हां यह प्रोवाइड\\xa0\\nकिया जाएगा मैं भी देता है इसका मतलब क्या है\\xa0\\xa0', 'start': 2189.99, 'duration': 16.29}, {'text': 'हो चुके हैं यह फॉर्मूला थोड़ा सा कॉम्प्लिकेटेड\\xa0\\nएंड तो यह फोन में याद करने के लिए दिया जाता एग्जाम\\xa0\\xa0', 'start': 2207.86, 'duration': 5.67}, {'text': 'में बल्कि फॉर मले को एक्सप्लेन जगना होगा फॉर्मूला\\xa0\\nअप्लाई कैसे कर रहा है यह उसके ऊपर हम बात करते हैं\\xa0\\xa0', 'start': 2213.53, 'duration': 7.35}, {'text': 'कि लेट्स डिसकस अ क्वेश्चन कि आप दूसरा क्वेश्चन ओं', 'start': 2222.39, 'duration': 8.04}, {'text': 'और भी अजय को आप हिंदू हो कि लेडीस कर सको लुट एडिशन\\xa0\\nटो कंट्रोल subscribe for More videos लेक्सेटिव इन\\xa0\\xa0', 'start': 2234.24, 'duration': 19.74}, {'text': 'द फॉलोइंग इनफॉरमेशन मैनेजमेंट डिसाइड मिनिमम करंट\\xa0\\nअकाउंट बैलेंस शिफ्ट कर लो ले लो ले लो ले लो ले लो', 'start': 2253.98, 'duration': 15.87}, {'text': 'है तबीयत इस दहेज़ स्टैंडर्ड देविएशन आफ 300 से', 'start': 2273.18, 'duration': 9.57}, {'text': 'ज़्यादा स्टैंडर्ड डेविएशन को अगर सब्स्क्राइब कर\\xa0\\nदिया जाए तो इसका आंसर विलियम्स के बराबर करके इस\\xa0\\xa0', 'start': 2282.75, 'duration': 15.45}, {'text': 'तरीके से निकाल सकते कि ट्रांजेक्शन को कितनी\\xa0\\nहै डॉलर पांच ट्रांजैक्शन कॉस्ट आ गई डॉलर 5a\\xa0\\xa0', 'start': 2298.2, 'duration': 12.13}, {'text': 'मैं इंडिया चाहिए टर्न ओन इंटरेस्ट यह पर वेरिफिकेशन\\xa0\\nपड़े निकालना तो बड़े निकालने के लिए करेंगे तो\\xa0\\xa0', 'start': 2311.21, 'duration': 14.01}, {'text': 'कि 12.48 मिनट पर डे निकाल है दूसरी\\xa0\\nशिफ्ट पेज नंबर 90 तिपाई स्टैंड पर आधे', 'start': 2326.63, 'duration': 12.45}, {'text': 'कि चाहिए क्या निकाल हैं इस केलकुलेटर स्प्रेड\\xa0\\xa0', 'start': 2341.37, 'duration': 5.88}, {'text': 'थे अप्पर लिमिट रिटर्न प्वाइंट\\xa0\\nइन हाउ मच मनी ट्रांसफर करना है\\xa0\\xa0', 'start': 2347.25, 'duration': 12.27}, {'text': 'कि सीवरेज रियल फॉर्म पॉइंट्स में लगा देता फॉर\\xa0\\nमुस्लिम स्त्रीलिंग 12345 को कहते प्वाइंट्स 158\\xa0\\xa0', 'start': 2366.83, 'duration': 9.67}, {'text': '24 दक्षिण को कितनी सवाल में 500 कि तेरी अंकिता\\xa0\\nदाम लव ₹1000 का कि इंट्रस्टेड परमेज़न 000 से', 'start': 2378.42, 'duration': 18.36}, {'text': 'कि टीन अजय जो पहले क्या हाल होगा पहले यह साल\\xa0\\nहोगा फिर इसको जॉइंट करेंगे उसके बाद इसके ऊपर\\xa0\\xa0', 'start': 2399.47, 'duration': 9.84}, {'text': 'पावर लगा कर दो को कॉल करो हुआ है 9th सिक्स 1051\\xa0\\nप्वाइंट्स 192 कि पूरे का आंसर है संघ प्रमुख\\xa0\\xa0', 'start': 2409.31, 'duration': 21.59}, {'text': 'नियुक्त का आंसर है 15 प्वाइंट्स 172 को एकदम\\xa0\\nपर दोबारा चुनाव जो पूरे फीट वाला आंसर है न हो\\xa0\\xa0', 'start': 2430.9, 'duration': 16.23}, {'text': 'है क्योंकि इसका आंसर जो आएगा एक्सप्रेस\\xa0\\nकब आएगा 3023 डांसर आना चाहिए स्त्री0', 'start': 2448.04, 'duration': 8.1}, {'text': 'टोटली ऑप्शनल है के नीचे डिवाइस कैसे किया है 300\\xa0\\nपरसेंटेज मतलब नीचे करो मैं यह 30 से ज़्यादा है\\xa0\\xa0', 'start': 2456.14, 'duration': 32.21}, {'text': '205 00033 अटेंडेड के बात है', 'start': 2488.35, 'duration': 8.22}, {'text': 'है तो यह बनती है अभी घायल पांच 2.75 The Amazing', 'start': 2499.19, 'duration': 6.57}, {'text': '21 अ', 'start': 2509.87, 'duration': 0.87}, {'text': '2030 टू पॉइंट पांच-पांच मिनट पॉइंट था लेफ्ट लोअर\\xa0\\nलिमिट 1500 और सब्सक्राइब टो इसको साल पर हूं हूं', 'start': 2512.85, 'duration': 27.05}, {'text': 'झाल', 'start': 2542.84, 'duration': 0.69}, {'text': 'लुट गई ए', 'start': 2550.97, 'duration': 6.57}, {'text': '1250 8258 का रिटर्न पॉइंट और अप्पर\\xa0\\nलिमिट कितनी होगी पर लिमिटेड लोअर\\xa0\\xa0', 'start': 2559.42, 'duration': 13.98}, {'text': 'लिमिट प्लस प्राइस इन दोनों लो लो का नोटिफिकेशन', 'start': 2573.4, 'duration': 11.34}, {'text': 'लुटी 952 पिंपल्स बॉल्स बना तो\\xa0\\nअब बारी आ रही थी ना है और 536\\xa0\\xa0', 'start': 2587.03, 'duration': 34.46}, {'text': 'जय हिंद इंडियन और वेस्टर्न पॉइंट हमारा था\\xa0\\n2508 मीटिंग सिक्योरिटी गांव 52 - 250 हैं\\xa0\\xa0', 'start': 2622.76, 'duration': 48.51}, {'text': 'अजय को अजय को लुट वन पार्ट और उसके बाद\\xa0\\nही फिल्म मूवमेंट की ऊंचाई अगर यहां पहुंच\\xa0\\xa0', 'start': 2673.18, 'duration': 13.07}, {'text': 'गया इनमें कितनी सिक्योरिटी चालू करेंगे बहुत\\xa0\\nहोता है हिंदी में लुट की वीडियो में गाने को', 'start': 2686.25, 'duration': 30.96}, {'text': 'कि इसके अंदर यह जो ट्रांजेक्शंस पॉइंट\\xa0\\nहै और जो वैरीयस लगा गया है इसके अंदर\\xa0\\xa0', 'start': 2719.26, 'duration': 5.94}, {'text': 'पीरियंस का मतलब होता है और यह शर्त जितना\\xa0\\nहमारे पास गैस के अंदर वेरिएशन ज्यादा पर', 'start': 2725.2, 'duration': 13.65}, {'text': 'ज्यादा होगी यह ऊपर लिमिट करेगा ना उतना स्प्रेड भी\\xa0\\nरखना चाहिए चाहिए और ना करना पड़े अगर बार और सेंड\\xa0\\xa0', 'start': 2738.85, 'duration': 28.47}, {'text': 'करें सब्सक्राइब एक बुड्ढा दक्षिण को समिति करनी\\xa0\\nपड़ी थी इसलिए सब्सक्राइब करें ताकि यह दो चीजों\\xa0\\xa0', 'start': 2767.32, 'duration': 14.15}, {'text': 'से कि आपकी वेरिएशन कितनी है और आपकी ट्रांजेक्शन\\xa0\\nको था यह लो है का स्वागत वेरिएशन दादा होगी तो\\xa0\\xa0', 'start': 2781.47, 'duration': 9.73}, {'text': 'उस पर ज्यादा होगा अगर ट्रांजेक्शन को ज्यादा\\xa0\\nहोगी तो फ्रेंड्स ज्यादा हूं सही है अजय को', 'start': 2791.2, 'duration': 9.57}]\n",
      "Inw0X-Tm59A [{'text': 'नमस्कार दोस्तों मिस्टीरियस न्यूज में आपका स्वागत\\xa0\\nहै पुराणों के अनुसार श्री विष्णु जी ने कुछ समय के\\xa0\\xa0', 'start': 5.63, 'duration': 7.17}, {'text': 'लिए स्वामी पुष्कारिणी नामक सरोवर के किनारे निवास\\xa0\\nकिया था यह सरोवर तिरूमला के पास स्थित है तिरूमाला\\xa0\\xa0', 'start': 12.8, 'duration': 6.84}, {'text': 'तिरूपति के चारों ओर स्थित पहाड़ियां शेषनाग के साथ\\xa0\\nअंकों के आधार पर बनी सप्तगिरि कहलाती हैं वैकुंठ\\xa0\\xa0', 'start': 19.64, 'duration': 7.2}, {'text': 'एकादशी के अवसर पर लोग तिरुपति वेंकटेश्वर मंदिर\\xa0\\nपर प्रभु के दर्शन के लिए आते हैं यहां पर शांत\\xa0\\xa0', 'start': 26.84, 'duration': 6.9}, {'text': 'बालाजी विराजमान है यहां आने के पश्चात भक्तों\\xa0\\nको जन्म मरण के बंधन से मुक्ति मिलती है और उनके\\xa0\\xa0', 'start': 33.74, 'duration': 7.83}, {'text': 'सारे पाप धुल जाते हैं श्री वेंकटेश्वर का प्राचीन\\xa0\\nमंदिर तिरुपति पहाड़ की साथ हुई चोटी वेंकटचला पर\\xa0\\xa0', 'start': 41.57, 'duration': 6.72}, {'text': 'स्थित है यह स्वामी पुष्कारिणी के दक्षिणी किनारे\\xa0\\nपर स्थित है श्री वेंकट पहाड़ी का स्वामी होने के\\xa0\\xa0', 'start': 48.29, 'duration': 6.66}, {'text': 'कारण ही इन्हें वेंकटेश्वर कहा जाने लगा इन्हें\\xa0\\nसाथ पहाड़ों का भगवान भी कहा जाता है मंदिर के\\xa0\\xa0', 'start': 54.95, 'duration': 6.69}, {'text': 'गर्भगृह में भगवान वेंकटेश्वर साक्षात विराजमान है\\xa0\\nकि जिस किसी ने भी भारत के आंध्र प्रदेश में स्थित\\xa0\\xa0', 'start': 61.64, 'duration': 6.73}, {'text': 'तिरुपति बालाजी धाम के देवता भगवान श्री बालाजी\\xa0\\nवेंकटेश्वर स्वामी के बारे में जाना वह भगवान की\\xa0\\xa0', 'start': 68.37, 'duration': 6.21}, {'text': 'लीला के सामने नतमस्तक हो गया क्योंकि इस तिरुपति\\xa0\\nमंदिर के देवता भगवान विष्णु की पृथ्वी पर आने की\\xa0\\xa0', 'start': 74.58, 'duration': 6.63}, {'text': 'लीला बड़ी अद्भुत है और सभी को आश्चर्यचकित करने\\xa0\\nवाली है यह बड़ी कौतूहल भरी तथा मन में यह प्रश्न\\xa0\\xa0', 'start': 81.21, 'duration': 7.29}, {'text': 'उठता है कि वे कौन से कारण थे जिसकी वजह से भगवान\\xa0\\nविष्णु को वैकुंठ लोक से पृथ्वी लोक में निवास करने\\xa0\\xa0', 'start': 88.5, 'duration': 7.14}, {'text': 'के लिए आना पड़ा इस संबंध में भगवान विष्णु जी की\\xa0\\nलक्ष्मी जी से विवाह होने की कहानी बहुत प्रचलित\\xa0\\xa0', 'start': 95.64, 'duration': 6.12}, {'text': 'है कहा जाता है कि किसी बात पर भगवान विष्णु और\\xa0\\nमाता लक्ष्मी जी में असहमति हो गई और लक्ष्मी जी\\xa0\\xa0', 'start': 101.76, 'duration': 6.72}, {'text': 'उनसे रूठ कर धरती पर आएगी और भगवान विष्णु भी उनके\\xa0\\nपीछे-पीछे पृथ्वी पर आ गए ऐसा कहा जाता है कि तभी\\xa0\\xa0', 'start': 108.48, 'duration': 7.11}, {'text': 'से भगवान विष्णु भगवान वेंकटेश्वर स्वामी के स्वरूप\\xa0\\nमें भारत के आंध्र प्रदेश क्षेत्र के चित्तूर जिले\\xa0\\xa0', 'start': 115.59, 'duration': 6.87}, {'text': 'के ऊंची पहाड़ियों पर निवास कर रहे हैं भगवान विष्णु\\xa0\\nसे लक्ष्मी जी क्यों और किस बात पर रुठ गई और क्यों\\xa0\\xa0', 'start': 122.46, 'duration': 6.73}, {'text': 'पृथ्वी लोक चलिए आइए आइए जानते हैं यह पूरी पौराणिक\\xa0\\nअद्भुत कथा क्या है भगवान विष्णु के धरती पर बसने की\\xa0\\xa0', 'start': 129.19, 'duration': 7.44}, {'text': 'कथा कहा जाता है कि एक बार महर्षि भृगु भगवान विष्णु\\xa0\\nके धैर्य की परीक्षा लेना चाहते थे इसी प्रयोजन से\\xa0\\xa0', 'start': 136.63, 'duration': 7.26}, {'text': 'महर्षि भृगु एक बार भगवान विष्णु के निवास स्थान\\xa0\\nवैकुंठधाम में पधारे उस समय भगवान विष्णुजी के शयन\\xa0\\xa0', 'start': 143.89, 'duration': 7.26}, {'text': 'के समय था भगवान विष्णु क्षीर सागर में शेषनाग पर\\xa0\\nनिद्रावस्था में थे तभी महर्षि भृगु ने वैकुंठधाम\\xa0\\xa0', 'start': 151.15, 'duration': 7.14}, {'text': 'में प्रवेश किया महर्षि भृगु भगवान विष्णु की गहरी\\xa0\\nनिद्रा को तोड़कर उन्हें प्रभावित करना चाहते थे\\xa0\\xa0', 'start': 158.29, 'duration': 6.0}, {'text': 'ताकि भगवान अपना धैर्य खो रहें और विषय की परीक्षा\\xa0\\nमें पराजित हो जाएं भगवान विष्णु को नाराज करने के\\xa0\\xa0', 'start': 164.29, 'duration': 7.86}, {'text': 'उद्देश्य से महर्षि भृगु ने भगवान विष्णु के आसन\\xa0\\nशेषनाग पर अपने पांवों से तेज प्रहार किया जिसके\\xa0\\xa0', 'start': 172.15, 'duration': 6.93}, {'text': 'कारण गहरी निद्रा में सो रहे भगवान विष्णु की निद्रा\\xa0\\nभंग हो गई वहां बैठी लक्ष्मी जी यह सारा दृश्य दे\\xa0\\xa0', 'start': 179.08, 'duration': 6.52}, {'text': 'प्रवीण उन्हें महर्षि भृगु का यह स्वभाव अच्छा नहीं\\xa0\\nलगा उन्होंने उसी समय भगवान विष्णु से कहा कि वे\\xa0\\xa0', 'start': 185.6, 'duration': 7.05}, {'text': 'महर्षि भृगु को इस उद्दंडता के लिए गोरधन दें ताकि\\xa0\\nमहर्षि भृगु को अपने इस कृत्य की सजा मिल सके लेकिन\\xa0\\xa0', 'start': 192.65, 'duration': 6.72}, {'text': 'महर्षि भृगु द्वारा शेषनाग को आघात पहुंचाए जाने और\\xa0\\nअपनी गहरी नींद टूट जाने के बाद भी भगवान विष्णु ने\\xa0\\xa0', 'start': 199.37, 'duration': 7.86}, {'text': 'महर्षि भृगु से प्रेमपूर्वक हुआ था यह मुनिवर\\xa0\\nआपका हमारे वैकुंठधाम में स्वागत है आइए बैठिए\\xa0\\xa0', 'start': 207.23, 'duration': 6.66}, {'text': 'हमारे वैकुंठधाम में मैं आपकी सेवा में हर पल तत्पर\\xa0\\nहूं लक्ष्मी जी ने जब देखा कि भगवान विष्णु महर्षि\\xa0\\xa0', 'start': 213.89, 'duration': 7.23}, {'text': 'भृगु को दंड देने के बजाय उनका सत्कार कर रहे हैं\\xa0\\nतो उनके ह्रदय को बड़ा आघात पहुंचा लक्ष्मी जी के\\xa0\\xa0', 'start': 221.12, 'duration': 6.69}, {'text': 'मन के अनुसार महर्षि भृगु को दंड मिलने पर वहीं\\xa0\\nविष्णु जी से रूठकर में पृथ्वी लोक चली थी इसके\\xa0\\xa0', 'start': 227.81, 'duration': 6.75}, {'text': 'कारण भगवान विष्णु बहुत चिंतित हो गए फिर उन्होंने\\xa0\\nअपनी दिव्य दृष्टि से देखा तो पता चला कि लक्ष्मी\\xa0\\xa0', 'start': 234.56, 'duration': 6.36}, {'text': 'जी पृथ्वी लोक में पद्मावती के रूप में अवतरित हो\\xa0\\nगई हैं भगवान विष्णु ने विचार किया कि अब उन्हें\\xa0\\xa0', 'start': 240.92, 'duration': 6.22}, {'text': 'भी पृथ्वी लोक जाना चाहिए और अपनी प्रिय लक्ष्मी\\xa0\\nको मनाना चाहिए यह सोचकर भगवान विष्णु भी पृथ्वी\\xa0\\xa0', 'start': 247.14, 'duration': 6.87}, {'text': 'लोक पर पहुंच गए लक्ष्मी जी ने जब भगवान विष्णु को\\xa0\\nपृथ्वी लोक में देखा तो उनका अद्भुत प्रेम देखकर हुए\\xa0\\xa0', 'start': 254.01, 'duration': 7.38}, {'text': 'अति प्रसन्न होगी अब उनके हृदय में भगवान विष्णु\\xa0\\nके प्रति तनिक भी विरोध नहीं था अब भगवान विष्णु\\xa0\\xa0', 'start': 261.39, 'duration': 6.45}, {'text': 'और लक्ष्मी जी ने पृथ्वी वासियों के हित में पृथ्वी\\xa0\\nपर ही भगवान श्री वेंकटेश्वरा तिरुपति बालाजी के रूप\\xa0\\xa0', 'start': 267.84, 'duration': 6.39}, {'text': 'में दक्षिण की तिरूमला की पहाड़ियों पर निवास करने\\xa0\\nका मन बना लिया और इसी पहाड़ी पर बस गए ऐसा कहा जाता\\xa0\\xa0', 'start': 274.23, 'duration': 7.08}, {'text': 'है कि आज भी भगवान विष्णु और लक्ष्मी जी अपने सजीव\\xa0\\nरूप में दक्षिण की तिरुमला की पहाड़ियों में स्थित\\xa0\\xa0', 'start': 281.31, 'duration': 6.72}, {'text': 'है उनकी दैवीय शक्ति का आज भी लोगों को अभ्यास होता\\xa0\\nहै तिरुपति वेंकटेश्वर मंदिर के नाम से प्रसिद्ध धाम\\xa0\\xa0', 'start': 288.03, 'duration': 7.62}, {'text': 'भारत का एक प्रमुख तीर्थ स्थल है भगवान विष्णु का\\xa0\\nयह धाम समुद्र तल से 32000 फीट ऊंचाई पर स्थित है\\xa0\\xa0', 'start': 295.65, 'duration': 7.11}, {'text': 'पौराणिक ग्रंथों में तिरुपति बालाजी के ढेर होते हुए\\xa0\\nनिगम नाम से उल्लेख किया गया है साथ पहाड़ों वाले\\xa0\\xa0', 'start': 302.76, 'duration': 7.12}, {'text': 'मंदिर के नाम से प्रसिद्ध तिरूपति बालाजी महाराज का\\xa0\\nधर्म एक ऐसा धर्म है जहां भक्तों को नए-नए चमत्कारों\\xa0\\xa0', 'start': 309.88, 'duration': 7.38}, {'text': 'और रहस्यों की अनुभूति होती है समय-समय पर इस धाम\\xa0\\nके देवता अपने भक्तों को जीवंतता का आभास कराते\\xa0\\xa0', 'start': 317.26, 'duration': 6.93}, {'text': 'रहते हैं आइए जानते हैं तिरुपति बालाजी महाराज के\\xa0\\nधमाके हुए अनसुलझे रहस्य जो सदियों से रहस्य बने\\xa0\\xa0', 'start': 324.19, 'duration': 6.81}, {'text': 'हुए हैं वेंकटेश्वर बालाजी मंदिर की स्थापना का\\xa0\\nरहस्य दक्षिण भारत के इस तिरुपति बालाजी के भव्य\\xa0\\xa0', 'start': 331.0, 'duration': 6.72}, {'text': 'मंदिर को कब और किसके द्वारा बनवाया गया इस बात का\\xa0\\nकोई निश्चित प्रमाण नहीं मिलता है कुछ इतिहासकार इस\\xa0\\xa0', 'start': 337.72, 'duration': 7.41}, {'text': 'मंदिर की स्थापना पांचवीं शताब्दी के आसपास मानते\\xa0\\nहैं तो कुछ छटी शताब्दी के इस मंदिर की स्थापना के\\xa0\\xa0', 'start': 345.13, 'duration': 6.6}, {'text': 'संबंध में चोला और विजय नगर के नरेशों का नाम लिया\\xa0\\nजाता है लेकिन यह सब केवल एक अनुमान है वास्तव में\\xa0\\xa0', 'start': 351.73, 'duration': 6.87}, {'text': 'इस मंदिर का संस्थापक कौन था इसके बारे में कोई\\xa0\\nपुख्ता सबूत नहीं मिलते हैं इतिहास बताता है कि\\xa0\\xa0', 'start': 358.6, 'duration': 7.0}, {'text': 'श्रवण को एक समय में कांचीपुरम के राजाओं ने अपने\\xa0\\nअधिकार में ले लिया था जिसके बाद इस धाम को भव्य\\xa0\\xa0', 'start': 365.6, 'duration': 6.93}, {'text': 'स्वरूप प्रदान किया गया तत्पश्चात पंद्रहवी सदी\\xa0\\nमें विजयनगर के सम्राट बने इस बालाजी मंदिर पर\\xa0\\xa0', 'start': 372.53, 'duration': 6.03}, {'text': 'अपना आधिपत्य जमा लिया कहते हैं कि जब विजयनगर के\\xa0\\nराजाओं ने इस तिरुपति बालाजी मंदिर को सुंदर बनाने\\xa0\\xa0', 'start': 378.56, 'duration': 6.69}, {'text': 'के लिए और 600 के लिए इस मंदिर में धन लगाया तो हम\\xa0\\nराज्यों के वैभव में चार गुना वृद्धि हुई इसके बाद\\xa0\\xa0', 'start': 385.25, 'duration': 7.11}, {'text': 'तो यह बात इतिहास प्रसिद्ध हो गई कि इस धाम के\\xa0\\nप्रभु धन के देवता हैं तिरुपति बालाजी वे भगवान\\xa0\\xa0', 'start': 392.36, 'duration': 6.81}, {'text': 'है जो भक्तों के द्वारा स्वयं भी अत्यंत धनवान\\xa0\\nरहते हैं अर्थात यहां आने वाले भक्तों की तरफ से\\xa0\\xa0', 'start': 399.17, 'duration': 6.57}, {'text': 'प्रचूर मात्रा में धन का चढ़ावा आता है कहा जाता\\xa0\\nहै कि यह तिरुपति बालाजी मंदिर के द्वार की चौखट\\xa0\\xa0', 'start': 405.74, 'duration': 6.15}, {'text': 'वे पारस पत्थर है जिसको स्पर्श करते ही भक्तों\\xa0\\nके जीवन में धन-संपत्ति की वर्षा होने लगती है\\xa0\\xa0', 'start': 411.89, 'duration': 6.0}, {'text': 'ब्रिटिश शासन काल के अंग्रेज शासकों में भी या\\xa0\\nतिरुपति बालाजी का धाम प्रमुख आकर्षण का केंद्र\\xa0\\xa0', 'start': 417.89, 'duration': 6.6}, {'text': 'बना रहा है ब्रिटिश शासन ने तिरुपति बालाजी मंदिर\\xa0\\nकी देखभाल और देख रही स्थानीय मठ के महंत को सौंप\\xa0\\xa0', 'start': 424.49, 'duration': 6.4}, {'text': 'दिया था वर्ष 1933 में इस भव्य मंदिर के देखभाल का\\xa0\\nजिम्मा स्वयं मद्रास सरकार ने ले लिया था उसी समय\\xa0\\xa0', 'start': 430.89, 'duration': 7.74}, {'text': 'से राज्य सरकार तिरुपति बालाजी मंदिर की देखरेख कर\\xa0\\nरही है तिरुपति वेंकटेश्वर मंदिर की मूर्ति का रहस्य\\xa0\\xa0', 'start': 438.63, 'duration': 6.81}, {'text': 'कहते हैं कि जब इस तिरुपति बालाजी धाम के भगवान की\\xa0\\nआरती की जाती है तो भगवान की मूर्ति मुस्कराती हुई\\xa0\\xa0', 'start': 445.44, 'duration': 7.35}, {'text': 'सी प्रतीत होती है इस मंदिर में भगवान विष्णु की\\xa0\\nजो मूर्ति दिखाई देती है उस मूर्ति में लक्ष्मी जी\\xa0\\xa0', 'start': 452.79, 'duration': 6.03}, {'text': 'की प्रतिमा भी समाहित है दरअसल सामने से एक दिखने\\xa0\\nवाली मूर्ति में भगवान विष्णु के हृदय स्थल पर मां\\xa0\\xa0', 'start': 458.82, 'duration': 6.48}, {'text': 'लक्ष्मी विराजमान है इस मंदिर की मूर्ति अपने आप में\\xa0\\nअनूठी है यह मूर्ति कब कहां से इस पावन धाम में आई\\xa0\\xa0', 'start': 465.3, 'duration': 7.17}, {'text': 'इसके बारे में कोई निश्चित जानकारी नहीं मिलती है\\xa0\\nऐसा कहा जाता है कि यहां दक्षिण क्षेत्र के पर्वत\\xa0\\xa0', 'start': 472.47, 'duration': 7.23}, {'text': 'की चोटी पर भगवान वेंकटेश्वर की मूर्ति स्वयं प्रकट\\xa0\\nहुई है तिरुपति बालाजी धाम में सं कि आवाज का रहस्य\\xa0\\xa0', 'start': 479.7, 'duration': 7.18}, {'text': 'तिरुपति वेंकटेश्वर स्वामी मंदिर समुद्र तल से 32000\\xa0\\nफीट की ऊंचाई पर पहाड़ों पर स्थित है लेकिन फिर भी\\xa0\\xa0', 'start': 486.88, 'duration': 7.77}, {'text': 'इस मंदिर के भगवान की मूर्ति से समुद्र की लहरों\\xa0\\nकी अद्भुत आवाज आती है कुछ लोगों का कहना है कि इस\\xa0\\xa0', 'start': 494.65, 'duration': 6.84}, {'text': 'धाम के देवता भगवान वेंकटेश्वर की मूर्ति समुद्र से\\xa0\\nही प्राप्त हुई है ऐसा भी कहा जाता है कि समुद्र की\\xa0\\xa0', 'start': 501.49, 'duration': 7.83}, {'text': 'ध्वनि भगवान विष्णु के वैकुंठ धाम के चीन सागर का\\xa0\\nस्वर है जहां भगवान विष्णु पहले निवास करते थे उस\\xa0\\xa0', 'start': 509.32, 'duration': 6.93}, {'text': 'समुद्र की लहरें अदृश्य रूप में अपने भगवान विष्णु\\xa0\\nके साथ रह रही हैं इसलिए भगवान विष्णु की मूर्ति\\xa0\\xa0', 'start': 516.25, 'duration': 6.33}, {'text': 'के आसपास के समंदर की लहरों का स्वर सुनाई देता है\\xa0\\nइसी कारण इस मंदिर में भगवान विष्णु का स्वरूप माना\\xa0\\xa0', 'start': 522.58, 'duration': 6.6}, {'text': 'जाता है मंदिर की छड़ी का रहस्य इस धाम में तिरुपति\\xa0\\nवेंकटेश्वर मंदिर के द्वार पर एक छड़ी रखी हुई है यह\\xa0\\xa0', 'start': 529.18, 'duration': 8.34}, {'text': 'चढ़ी भक्तों को बहुत आकर्षित करती है मंदिर की छड़ी\\xa0\\nके पीछे अनेक पौराणिक कथाएं प्रचलित है कुछ लोगों\\xa0\\xa0', 'start': 537.52, 'duration': 7.08}, {'text': 'का कहना है कि भगवान विष्णु जब इस धरती पर लक्ष्मी\\xa0\\nजी की तलाश करने के लिए आए थे तब उनके हाथ में यही\\xa0\\xa0', 'start': 544.6, 'duration': 6.88}, {'text': 'जादुई छड़ी थी जो भगवान विष्णु को पृथ्वी पर लक्ष्मी\\xa0\\nजी का पता बता रही थी इस धाम में आने पर ऐसा लगता है\\xa0\\xa0', 'start': 551.48, 'duration': 7.38}, {'text': 'कि अभी भगवान विष्णु यह जादुई छड़ी द्वार पर रख कर\\xa0\\nमूर्तिवत हो गए हो यह छड़ी आज भी इस धाम में भगवान\\xa0\\xa0', 'start': 558.86, 'duration': 7.89}, {'text': 'विष्णु के जीवन होने का प्रमाण दे रहे हैं इस मंदिर\\xa0\\nमें रखी हुई छड़ी की एक पौधा ऐसी भी है कि यह झाड़ू\\xa0\\xa0', 'start': 566.75, 'duration': 7.26}, {'text': 'है जिससे बालाजी को बचपन में चोट लगी थी ऐसा कहा\\xa0\\nजाता है बालाजी के चेहरे पर आज भी उस चोट का घाव\\xa0\\xa0', 'start': 574.01, 'duration': 6.27}, {'text': 'है इसीलिए आज भी बालाजी की मूर्ति चेहरे पर चंदन का\\xa0\\nलेप लगाया जाता है ताकि उनका वैभव भर सके इस तिरुपति\\xa0\\xa0', 'start': 580.28, 'duration': 8.49}, {'text': 'बालाजी मंदिर में साज-श्रृंगार और प्रसाद आदि के\\xa0\\nलिए चढ़ाई जाने वाली सामग्री तिरुपति बालाजी के\\xa0\\xa0', 'start': 588.77, 'duration': 6.9}, {'text': 'गांव से ही आती है यह गांव तिरुपति बालाजी मंदिर से\\xa0\\nलगभग 22 किलोमीटर दूर स्थित है यह गांव अपने आप में\\xa0\\xa0', 'start': 595.67, 'duration': 7.35}, {'text': 'अनूठा है यह वही गांव है जहां कि महिलाएं तिरुपति\\xa0\\nबालाजी के मंदिर पर चढ़ाए जाने वाले समस्त पूजन\\xa0\\xa0', 'start': 603.02, 'duration': 6.61}, {'text': 'सामग्री एवं प्रसाद आदि इसी गांव में बनाती हैं यह\\xa0\\nपरंपरा कब और कैसे आरंभ हुई इसका कोई निश्चित प्रमाण\\xa0\\xa0', 'start': 609.63, 'duration': 7.41}, {'text': 'नहीं मिलता है लेकिन इस गांव में किसी बाहरी पुरुष\\xa0\\nका प्रवेश वर्जित है कहते हैं कि इस गांव की महिलाएं\\xa0\\xa0', 'start': 617.04, 'duration': 7.38}, {'text': 'भगवान विष्णु की परम भक्त हैं वे सभी भगवान विष्णु\\xa0\\nके भजन गाते हुए अपने हाथों से तिरुपति बालाजी को\\xa0\\xa0', 'start': 624.42, 'duration': 7.23}, {'text': 'चढ़ाने के लिए मिठाई फूल माला आदि बनाती हैं तिरुपति\\xa0\\nबालाजी वे चमत्कारी धाम है जहां के देवता को प्रणाम\\xa0\\xa0', 'start': 631.65, 'duration': 7.41}, {'text': 'करने मात्र से आपकी सफलता के द्वार खुलने लगते हैं\\xa0\\nइसीलिए कोई भी राजनीतिक नेता चुनाव लड़ने से पूर्व\\xa0\\xa0', 'start': 639.06, 'duration': 6.72}, {'text': 'और कोई भी फिल्म अभिनेता अपनी नई फिल्म की शुरुआत\\xa0\\nकरने से पहले इस मंदिर में आकर माथा अवश्य देखते\\xa0\\xa0', 'start': 645.78, 'duration': 7.17}, {'text': 'हैं ऐसी मान्यता है कि अपने मन की अभिलाषा तुलसीदल\\xa0\\nअर्पित करते हुए सच्चे मन से मांगने पर इस मंदिर के\\xa0\\xa0', 'start': 652.95, 'duration': 7.02}, {'text': 'देवता उसे अवश्य पूरा करते हैं सबसे अधिक अमीर मंदिर\\xa0\\nहोने का रहस्य इसमें कि अपार श्रद्धा देश-विदेश के\\xa0\\xa0', 'start': 659.97, 'duration': 7.42}, {'text': 'धनी वर्ग के लोगों को भी अपनी ओर आकर्षित करती है\\xa0\\nऐसा कहा जाता है कि यहां आने के बाद इंसान को अपने\\xa0\\xa0', 'start': 667.39, 'duration': 6.9}, {'text': 'जीवन में धन की कमी नहीं रहती इस धाम के देवता के\\xa0\\nआशीर्वाद के बाद लोगों को धन का लाभ होने लगता है\\xa0\\xa0', 'start': 674.29, 'duration': 7.05}, {'text': 'जिसके बाद भक्तगण अपने धन के लाभ का कुछ हिस्सा\\xa0\\nतिरुपति बालाजी धाम में चढ़ाने लगे लोगों ने देखा\\xa0\\xa0', 'start': 681.34, 'duration': 7.14}, {'text': 'कि हर वर्ष नियमित रूप से धन चढ़ाने से उनका\\xa0\\nव्यवसाय दिन दुगनी रात चौगुनी उन्नति करने लगा\\xa0\\xa0', 'start': 688.48, 'duration': 5.97}, {'text': 'जिसके बाद लाखों की संख्या में लोग बालाजी महाराज\\xa0\\nके परम भक्त बन गए जिस प्रकार लोग अपनी कुल आय का\\xa0\\xa0', 'start': 694.45, 'duration': 6.96}, {'text': 'एक भाग अपने घर परिवार के सबसे बड़े व्यक्ति को\\xa0\\nदेते हैं उसी प्रकार लोग अपनी इनकम का एक हिस्सा\\xa0\\xa0', 'start': 701.41, 'duration': 7.44}, {'text': 'तिरुपति महाराज के चरणों में चढ़ाने लगे इस प्रकार\\xa0\\nभक्तों के द्वारा दिया गया धन मंदिर में बढ़ने लगा\\xa0\\xa0', 'start': 708.85, 'duration': 6.42}, {'text': 'और दूसरी तरफ उनके घरों में भी दोस्तों यदि यह\\xa0\\nजानकारी आपको अच्छी लगी हो तो हमारे चैनल पर अप', 'start': 715.27, 'duration': 8.04}]\n"
     ]
    }
   ],
   "source": [
    "for category_path in transcripts_path.glob(\"*.json\"):\n",
    "    transcripts=load_json(category_path)\n",
    "    for audio,transcript in transcripts.items():\n",
    "       \n",
    "    "
   ]
  },
  {
   "cell_type": "code",
   "execution_count": 3,
   "metadata": {},
   "outputs": [],
   "source": [
    "audio_file=\"/home/munikumar/Downloads/heeriye.mp3\""
   ]
  },
  {
   "cell_type": "code",
   "execution_count": 4,
   "metadata": {},
   "outputs": [
    {
     "name": "stdout",
     "output_type": "stream",
     "text": [
      "Resampling the audio from 44100 Hz to 16000 Hz\n"
     ]
    },
    {
     "ename": "",
     "evalue": "",
     "output_type": "error",
     "traceback": [
      "\u001b[1;31mCannot execute code, session has been disposed. Please try restarting the Kernel."
     ]
    },
    {
     "ename": "",
     "evalue": "",
     "output_type": "error",
     "traceback": [
      "\u001b[1;31mThe Kernel crashed while executing code in the the current cell or a previous cell. Please review the code in the cell(s) to identify a possible cause of the failure. Click <a href='https://aka.ms/vscodeJupyterKernelCrash'>here</a> for more info. View Jupyter <a href='command:jupyter.viewOutput'>log</a> for further details."
     ]
    }
   ],
   "source": [
    "from speechbrain.pretrained import SepformerSeparation as separator\n",
    "import torchaudio\n",
    "\n",
    "model = separator.from_hparams(source=\"speechbrain/rescuespeech_sepformer\", savedir='pretrained_models/rescuespeech_sepformer')\n",
    "\n",
    "# for custom file, change path\n",
    "est_sources = model.separate_file(path=audio_file) \n",
    "\n",
    "torchaudio.save(\"enhanced_rescuespeech16k.wav\", est_sources[:, :, 0].detach().cpu(), 16000)\n"
   ]
  },
  {
   "cell_type": "code",
   "execution_count": 6,
   "metadata": {},
   "outputs": [
    {
     "ename": "RepositoryNotFoundError",
     "evalue": "401 Client Error. (Request ID: Root=1-65096c6d-2513505f520bd81a56093c53;0d4b3105-4b47-4abd-831a-1a4eed6b4993)\n\nRepository Not Found for url: https://huggingface.co/speechbrain/enhance-masknn-mp-gc/resolve/main/hyperparams.yaml.\nPlease make sure you specified the correct `repo_id` and `repo_type`.\nIf you are trying to access a private or gated repo, make sure you are authenticated.\nInvalid username or password.",
     "output_type": "error",
     "traceback": [
      "\u001b[0;31m---------------------------------------------------------------------------\u001b[0m",
      "\u001b[0;31mHTTPError\u001b[0m                                 Traceback (most recent call last)",
      "File \u001b[0;32m~/miniconda3/envs/hindi-data/lib/python3.10/site-packages/huggingface_hub/utils/_errors.py:261\u001b[0m, in \u001b[0;36mhf_raise_for_status\u001b[0;34m(response, endpoint_name)\u001b[0m\n\u001b[1;32m    260\u001b[0m \u001b[39mtry\u001b[39;00m:\n\u001b[0;32m--> 261\u001b[0m     response\u001b[39m.\u001b[39;49mraise_for_status()\n\u001b[1;32m    262\u001b[0m \u001b[39mexcept\u001b[39;00m HTTPError \u001b[39mas\u001b[39;00m e:\n",
      "File \u001b[0;32m~/miniconda3/envs/hindi-data/lib/python3.10/site-packages/requests/models.py:1021\u001b[0m, in \u001b[0;36mResponse.raise_for_status\u001b[0;34m(self)\u001b[0m\n\u001b[1;32m   1020\u001b[0m \u001b[39mif\u001b[39;00m http_error_msg:\n\u001b[0;32m-> 1021\u001b[0m     \u001b[39mraise\u001b[39;00m HTTPError(http_error_msg, response\u001b[39m=\u001b[39m\u001b[39mself\u001b[39m)\n",
      "\u001b[0;31mHTTPError\u001b[0m: 401 Client Error: Unauthorized for url: https://huggingface.co/speechbrain/enhance-masknn-mp-gc/resolve/main/hyperparams.yaml",
      "\nThe above exception was the direct cause of the following exception:\n",
      "\u001b[0;31mRepositoryNotFoundError\u001b[0m                   Traceback (most recent call last)",
      "\u001b[1;32m/home/munikumar/Desktop/hindi_dataset/example.ipynb Cell 41\u001b[0m line \u001b[0;36m7\n\u001b[1;32m      <a href='vscode-notebook-cell:/home/munikumar/Desktop/hindi_dataset/example.ipynb#X55sZmlsZQ%3D%3D?line=1'>2</a>\u001b[0m \u001b[39mimport\u001b[39;00m \u001b[39mspeechbrain\u001b[39;00m \u001b[39mas\u001b[39;00m \u001b[39msb\u001b[39;00m\n\u001b[1;32m      <a href='vscode-notebook-cell:/home/munikumar/Desktop/hindi_dataset/example.ipynb#X55sZmlsZQ%3D%3D?line=3'>4</a>\u001b[0m \u001b[39m# Load a pretrained model for speech enhancement\u001b[39;00m\n\u001b[1;32m      <a href='vscode-notebook-cell:/home/munikumar/Desktop/hindi_dataset/example.ipynb#X55sZmlsZQ%3D%3D?line=4'>5</a>\u001b[0m \u001b[39m# You can choose from different models on their website \u001b[39;00m\n\u001b[1;32m      <a href='vscode-notebook-cell:/home/munikumar/Desktop/hindi_dataset/example.ipynb#X55sZmlsZQ%3D%3D?line=5'>6</a>\u001b[0m \u001b[39m# For this example, we will use the spectral masking model\u001b[39;00m\n\u001b[0;32m----> <a href='vscode-notebook-cell:/home/munikumar/Desktop/hindi_dataset/example.ipynb#X55sZmlsZQ%3D%3D?line=6'>7</a>\u001b[0m enhance_model \u001b[39m=\u001b[39m sb\u001b[39m.\u001b[39;49mpretrained\u001b[39m.\u001b[39;49minterfaces\u001b[39m.\u001b[39;49mSpectralMaskEnhancement\u001b[39m.\u001b[39;49mfrom_hparams(source\u001b[39m=\u001b[39;49m\u001b[39m\"\u001b[39;49m\u001b[39mspeechbrain/enhance-masknn-mp-gc\u001b[39;49m\u001b[39m\"\u001b[39;49m, savedir\u001b[39m=\u001b[39;49m\u001b[39m\"\u001b[39;49m\u001b[39mpretrained_models/enhance-masknn-mp-gc\u001b[39;49m\u001b[39m\"\u001b[39;49m)\n\u001b[1;32m      <a href='vscode-notebook-cell:/home/munikumar/Desktop/hindi_dataset/example.ipynb#X55sZmlsZQ%3D%3D?line=8'>9</a>\u001b[0m \u001b[39m# Load an audio file of speech and noise\u001b[39;00m\n\u001b[1;32m     <a href='vscode-notebook-cell:/home/munikumar/Desktop/hindi_dataset/example.ipynb#X55sZmlsZQ%3D%3D?line=9'>10</a>\u001b[0m \u001b[39m# You can use any wav file that you have or download one from their website \u001b[39;00m\n\u001b[1;32m     <a href='vscode-notebook-cell:/home/munikumar/Desktop/hindi_dataset/example.ipynb#X55sZmlsZQ%3D%3D?line=10'>11</a>\u001b[0m \u001b[39m# For this example, we will use a file from their website\u001b[39;00m\n\u001b[1;32m     <a href='vscode-notebook-cell:/home/munikumar/Desktop/hindi_dataset/example.ipynb#X55sZmlsZQ%3D%3D?line=11'>12</a>\u001b[0m \n\u001b[1;32m     <a href='vscode-notebook-cell:/home/munikumar/Desktop/hindi_dataset/example.ipynb#X55sZmlsZQ%3D%3D?line=12'>13</a>\u001b[0m \u001b[39m# Enhance the speech and suppress the noise using the model\u001b[39;00m\n\u001b[1;32m     <a href='vscode-notebook-cell:/home/munikumar/Desktop/hindi_dataset/example.ipynb#X55sZmlsZQ%3D%3D?line=13'>14</a>\u001b[0m enhanced_signal \u001b[39m=\u001b[39m enhance_model\u001b[39m.\u001b[39menhance_file(audio_file)\n",
      "File \u001b[0;32m~/miniconda3/envs/hindi-data/lib/python3.10/site-packages/speechbrain/pretrained/interfaces.py:392\u001b[0m, in \u001b[0;36mPretrained.from_hparams\u001b[0;34m(cls, source, hparams_file, pymodule_file, overrides, savedir, use_auth_token, revision, download_only, **kwargs)\u001b[0m\n\u001b[1;32m    390\u001b[0m     clsname \u001b[39m=\u001b[39m \u001b[39mcls\u001b[39m\u001b[39m.\u001b[39m\u001b[39m__name__\u001b[39m\n\u001b[1;32m    391\u001b[0m     savedir \u001b[39m=\u001b[39m \u001b[39mf\u001b[39m\u001b[39m\"\u001b[39m\u001b[39m./pretrained_models/\u001b[39m\u001b[39m{\u001b[39;00mclsname\u001b[39m}\u001b[39;00m\u001b[39m-\u001b[39m\u001b[39m{\u001b[39;00mhashlib\u001b[39m.\u001b[39mmd5(source\u001b[39m.\u001b[39mencode(\u001b[39m'\u001b[39m\u001b[39mUTF-8\u001b[39m\u001b[39m'\u001b[39m,\u001b[39m \u001b[39merrors\u001b[39m=\u001b[39m\u001b[39m'\u001b[39m\u001b[39mreplace\u001b[39m\u001b[39m'\u001b[39m))\u001b[39m.\u001b[39mhexdigest()\u001b[39m}\u001b[39;00m\u001b[39m\"\u001b[39m\n\u001b[0;32m--> 392\u001b[0m hparams_local_path \u001b[39m=\u001b[39m fetch(\n\u001b[1;32m    393\u001b[0m     filename\u001b[39m=\u001b[39;49mhparams_file,\n\u001b[1;32m    394\u001b[0m     source\u001b[39m=\u001b[39;49msource,\n\u001b[1;32m    395\u001b[0m     savedir\u001b[39m=\u001b[39;49msavedir,\n\u001b[1;32m    396\u001b[0m     overwrite\u001b[39m=\u001b[39;49m\u001b[39mFalse\u001b[39;49;00m,\n\u001b[1;32m    397\u001b[0m     save_filename\u001b[39m=\u001b[39;49m\u001b[39mNone\u001b[39;49;00m,\n\u001b[1;32m    398\u001b[0m     use_auth_token\u001b[39m=\u001b[39;49muse_auth_token,\n\u001b[1;32m    399\u001b[0m     revision\u001b[39m=\u001b[39;49mrevision,\n\u001b[1;32m    400\u001b[0m )\n\u001b[1;32m    401\u001b[0m \u001b[39mtry\u001b[39;00m:\n\u001b[1;32m    402\u001b[0m     pymodule_local_path \u001b[39m=\u001b[39m fetch(\n\u001b[1;32m    403\u001b[0m         filename\u001b[39m=\u001b[39mpymodule_file,\n\u001b[1;32m    404\u001b[0m         source\u001b[39m=\u001b[39msource,\n\u001b[0;32m   (...)\u001b[0m\n\u001b[1;32m    409\u001b[0m         revision\u001b[39m=\u001b[39mrevision,\n\u001b[1;32m    410\u001b[0m     )\n",
      "File \u001b[0;32m~/miniconda3/envs/hindi-data/lib/python3.10/site-packages/speechbrain/pretrained/fetching.py:161\u001b[0m, in \u001b[0;36mfetch\u001b[0;34m(filename, source, savedir, overwrite, save_filename, use_auth_token, revision, cache_dir, silent_local_fetch)\u001b[0m\n\u001b[1;32m    159\u001b[0m logger\u001b[39m.\u001b[39minfo(MSG)\n\u001b[1;32m    160\u001b[0m \u001b[39mtry\u001b[39;00m:\n\u001b[0;32m--> 161\u001b[0m     fetched_file \u001b[39m=\u001b[39m huggingface_hub\u001b[39m.\u001b[39;49mhf_hub_download(\n\u001b[1;32m    162\u001b[0m         repo_id\u001b[39m=\u001b[39;49msource,\n\u001b[1;32m    163\u001b[0m         filename\u001b[39m=\u001b[39;49mfilename,\n\u001b[1;32m    164\u001b[0m         use_auth_token\u001b[39m=\u001b[39;49muse_auth_token,\n\u001b[1;32m    165\u001b[0m         revision\u001b[39m=\u001b[39;49mrevision,\n\u001b[1;32m    166\u001b[0m         cache_dir\u001b[39m=\u001b[39;49mcache_dir,\n\u001b[1;32m    167\u001b[0m     )\n\u001b[1;32m    168\u001b[0m     logger\u001b[39m.\u001b[39minfo(\u001b[39mf\u001b[39m\u001b[39m\"\u001b[39m\u001b[39mHF fetch: \u001b[39m\u001b[39m{\u001b[39;00mfetched_file\u001b[39m}\u001b[39;00m\u001b[39m\"\u001b[39m)\n\u001b[1;32m    169\u001b[0m \u001b[39mexcept\u001b[39;00m HTTPError \u001b[39mas\u001b[39;00m e:\n",
      "File \u001b[0;32m~/miniconda3/envs/hindi-data/lib/python3.10/site-packages/huggingface_hub/utils/_validators.py:118\u001b[0m, in \u001b[0;36mvalidate_hf_hub_args.<locals>._inner_fn\u001b[0;34m(*args, **kwargs)\u001b[0m\n\u001b[1;32m    115\u001b[0m \u001b[39mif\u001b[39;00m check_use_auth_token:\n\u001b[1;32m    116\u001b[0m     kwargs \u001b[39m=\u001b[39m smoothly_deprecate_use_auth_token(fn_name\u001b[39m=\u001b[39mfn\u001b[39m.\u001b[39m\u001b[39m__name__\u001b[39m, has_token\u001b[39m=\u001b[39mhas_token, kwargs\u001b[39m=\u001b[39mkwargs)\n\u001b[0;32m--> 118\u001b[0m \u001b[39mreturn\u001b[39;00m fn(\u001b[39m*\u001b[39;49margs, \u001b[39m*\u001b[39;49m\u001b[39m*\u001b[39;49mkwargs)\n",
      "File \u001b[0;32m~/miniconda3/envs/hindi-data/lib/python3.10/site-packages/huggingface_hub/file_download.py:1344\u001b[0m, in \u001b[0;36mhf_hub_download\u001b[0;34m(repo_id, filename, subfolder, repo_type, revision, endpoint, library_name, library_version, cache_dir, local_dir, local_dir_use_symlinks, user_agent, force_download, force_filename, proxies, etag_timeout, resume_download, token, local_files_only, legacy_cache_layout)\u001b[0m\n\u001b[1;32m   1338\u001b[0m     \u001b[39mraise\u001b[39;00m LocalEntryNotFoundError(\n\u001b[1;32m   1339\u001b[0m         \u001b[39m\"\u001b[39m\u001b[39mCannot find the requested files in the disk cache and outgoing traffic has been disabled. To enable\u001b[39m\u001b[39m\"\u001b[39m\n\u001b[1;32m   1340\u001b[0m         \u001b[39m\"\u001b[39m\u001b[39m hf.co look-ups and downloads online, set \u001b[39m\u001b[39m'\u001b[39m\u001b[39mlocal_files_only\u001b[39m\u001b[39m'\u001b[39m\u001b[39m to False.\u001b[39m\u001b[39m\"\u001b[39m\n\u001b[1;32m   1341\u001b[0m     )\n\u001b[1;32m   1342\u001b[0m \u001b[39melif\u001b[39;00m \u001b[39misinstance\u001b[39m(head_call_error, RepositoryNotFoundError) \u001b[39mor\u001b[39;00m \u001b[39misinstance\u001b[39m(head_call_error, GatedRepoError):\n\u001b[1;32m   1343\u001b[0m     \u001b[39m# Repo not found => let's raise the actual error\u001b[39;00m\n\u001b[0;32m-> 1344\u001b[0m     \u001b[39mraise\u001b[39;00m head_call_error\n\u001b[1;32m   1345\u001b[0m \u001b[39melse\u001b[39;00m:\n\u001b[1;32m   1346\u001b[0m     \u001b[39m# Otherwise: most likely a connection issue or Hub downtime => let's warn the user\u001b[39;00m\n\u001b[1;32m   1347\u001b[0m     \u001b[39mraise\u001b[39;00m LocalEntryNotFoundError(\n\u001b[1;32m   1348\u001b[0m         \u001b[39m\"\u001b[39m\u001b[39mAn error happened while trying to locate the file on the Hub and we cannot find the requested files\u001b[39m\u001b[39m\"\u001b[39m\n\u001b[1;32m   1349\u001b[0m         \u001b[39m\"\u001b[39m\u001b[39m in the local cache. Please check your connection and try again or make sure your Internet connection\u001b[39m\u001b[39m\"\u001b[39m\n\u001b[1;32m   1350\u001b[0m         \u001b[39m\"\u001b[39m\u001b[39m is on.\u001b[39m\u001b[39m\"\u001b[39m\n\u001b[1;32m   1351\u001b[0m     ) \u001b[39mfrom\u001b[39;00m \u001b[39mhead_call_error\u001b[39;00m\n",
      "File \u001b[0;32m~/miniconda3/envs/hindi-data/lib/python3.10/site-packages/huggingface_hub/file_download.py:1230\u001b[0m, in \u001b[0;36mhf_hub_download\u001b[0;34m(repo_id, filename, subfolder, repo_type, revision, endpoint, library_name, library_version, cache_dir, local_dir, local_dir_use_symlinks, user_agent, force_download, force_filename, proxies, etag_timeout, resume_download, token, local_files_only, legacy_cache_layout)\u001b[0m\n\u001b[1;32m   1228\u001b[0m \u001b[39mtry\u001b[39;00m:\n\u001b[1;32m   1229\u001b[0m     \u001b[39mtry\u001b[39;00m:\n\u001b[0;32m-> 1230\u001b[0m         metadata \u001b[39m=\u001b[39m get_hf_file_metadata(\n\u001b[1;32m   1231\u001b[0m             url\u001b[39m=\u001b[39;49murl,\n\u001b[1;32m   1232\u001b[0m             token\u001b[39m=\u001b[39;49mtoken,\n\u001b[1;32m   1233\u001b[0m             proxies\u001b[39m=\u001b[39;49mproxies,\n\u001b[1;32m   1234\u001b[0m             timeout\u001b[39m=\u001b[39;49metag_timeout,\n\u001b[1;32m   1235\u001b[0m         )\n\u001b[1;32m   1236\u001b[0m     \u001b[39mexcept\u001b[39;00m EntryNotFoundError \u001b[39mas\u001b[39;00m http_error:\n\u001b[1;32m   1237\u001b[0m         \u001b[39m# Cache the non-existence of the file and raise\u001b[39;00m\n\u001b[1;32m   1238\u001b[0m         commit_hash \u001b[39m=\u001b[39m http_error\u001b[39m.\u001b[39mresponse\u001b[39m.\u001b[39mheaders\u001b[39m.\u001b[39mget(HUGGINGFACE_HEADER_X_REPO_COMMIT)\n",
      "File \u001b[0;32m~/miniconda3/envs/hindi-data/lib/python3.10/site-packages/huggingface_hub/utils/_validators.py:118\u001b[0m, in \u001b[0;36mvalidate_hf_hub_args.<locals>._inner_fn\u001b[0;34m(*args, **kwargs)\u001b[0m\n\u001b[1;32m    115\u001b[0m \u001b[39mif\u001b[39;00m check_use_auth_token:\n\u001b[1;32m    116\u001b[0m     kwargs \u001b[39m=\u001b[39m smoothly_deprecate_use_auth_token(fn_name\u001b[39m=\u001b[39mfn\u001b[39m.\u001b[39m\u001b[39m__name__\u001b[39m, has_token\u001b[39m=\u001b[39mhas_token, kwargs\u001b[39m=\u001b[39mkwargs)\n\u001b[0;32m--> 118\u001b[0m \u001b[39mreturn\u001b[39;00m fn(\u001b[39m*\u001b[39;49margs, \u001b[39m*\u001b[39;49m\u001b[39m*\u001b[39;49mkwargs)\n",
      "File \u001b[0;32m~/miniconda3/envs/hindi-data/lib/python3.10/site-packages/huggingface_hub/file_download.py:1606\u001b[0m, in \u001b[0;36mget_hf_file_metadata\u001b[0;34m(url, token, proxies, timeout)\u001b[0m\n\u001b[1;32m   1596\u001b[0m \u001b[39m# Retrieve metadata\u001b[39;00m\n\u001b[1;32m   1597\u001b[0m r \u001b[39m=\u001b[39m _request_wrapper(\n\u001b[1;32m   1598\u001b[0m     method\u001b[39m=\u001b[39m\u001b[39m\"\u001b[39m\u001b[39mHEAD\u001b[39m\u001b[39m\"\u001b[39m,\n\u001b[1;32m   1599\u001b[0m     url\u001b[39m=\u001b[39murl,\n\u001b[0;32m   (...)\u001b[0m\n\u001b[1;32m   1604\u001b[0m     timeout\u001b[39m=\u001b[39mtimeout,\n\u001b[1;32m   1605\u001b[0m )\n\u001b[0;32m-> 1606\u001b[0m hf_raise_for_status(r)\n\u001b[1;32m   1608\u001b[0m \u001b[39m# Return\u001b[39;00m\n\u001b[1;32m   1609\u001b[0m \u001b[39mreturn\u001b[39;00m HfFileMetadata(\n\u001b[1;32m   1610\u001b[0m     commit_hash\u001b[39m=\u001b[39mr\u001b[39m.\u001b[39mheaders\u001b[39m.\u001b[39mget(HUGGINGFACE_HEADER_X_REPO_COMMIT),\n\u001b[1;32m   1611\u001b[0m     etag\u001b[39m=\u001b[39m_normalize_etag(\n\u001b[0;32m   (...)\u001b[0m\n\u001b[1;32m   1621\u001b[0m     size\u001b[39m=\u001b[39m_int_or_none(r\u001b[39m.\u001b[39mheaders\u001b[39m.\u001b[39mget(HUGGINGFACE_HEADER_X_LINKED_SIZE) \u001b[39mor\u001b[39;00m r\u001b[39m.\u001b[39mheaders\u001b[39m.\u001b[39mget(\u001b[39m\"\u001b[39m\u001b[39mContent-Length\u001b[39m\u001b[39m\"\u001b[39m)),\n\u001b[1;32m   1622\u001b[0m )\n",
      "File \u001b[0;32m~/miniconda3/envs/hindi-data/lib/python3.10/site-packages/huggingface_hub/utils/_errors.py:293\u001b[0m, in \u001b[0;36mhf_raise_for_status\u001b[0;34m(response, endpoint_name)\u001b[0m\n\u001b[1;32m    279\u001b[0m \u001b[39melif\u001b[39;00m error_code \u001b[39m==\u001b[39m \u001b[39m\"\u001b[39m\u001b[39mRepoNotFound\u001b[39m\u001b[39m\"\u001b[39m \u001b[39mor\u001b[39;00m response\u001b[39m.\u001b[39mstatus_code \u001b[39m==\u001b[39m \u001b[39m401\u001b[39m:\n\u001b[1;32m    280\u001b[0m     \u001b[39m# 401 is misleading as it is returned for:\u001b[39;00m\n\u001b[1;32m    281\u001b[0m     \u001b[39m#    - private and gated repos if user is not authenticated\u001b[39;00m\n\u001b[1;32m    282\u001b[0m     \u001b[39m#    - missing repos\u001b[39;00m\n\u001b[1;32m    283\u001b[0m     \u001b[39m# => for now, we process them as `RepoNotFound` anyway.\u001b[39;00m\n\u001b[1;32m    284\u001b[0m     \u001b[39m# See https://gist.github.com/Wauplin/46c27ad266b15998ce56a6603796f0b9\u001b[39;00m\n\u001b[1;32m    285\u001b[0m     message \u001b[39m=\u001b[39m (\n\u001b[1;32m    286\u001b[0m         \u001b[39mf\u001b[39m\u001b[39m\"\u001b[39m\u001b[39m{\u001b[39;00mresponse\u001b[39m.\u001b[39mstatus_code\u001b[39m}\u001b[39;00m\u001b[39m Client Error.\u001b[39m\u001b[39m\"\u001b[39m\n\u001b[1;32m    287\u001b[0m         \u001b[39m+\u001b[39m \u001b[39m\"\u001b[39m\u001b[39m\\n\u001b[39;00m\u001b[39m\\n\u001b[39;00m\u001b[39m\"\u001b[39m\n\u001b[0;32m   (...)\u001b[0m\n\u001b[1;32m    291\u001b[0m         \u001b[39m\"\u001b[39m\u001b[39m make sure you are authenticated.\u001b[39m\u001b[39m\"\u001b[39m\n\u001b[1;32m    292\u001b[0m     )\n\u001b[0;32m--> 293\u001b[0m     \u001b[39mraise\u001b[39;00m RepositoryNotFoundError(message, response) \u001b[39mfrom\u001b[39;00m \u001b[39me\u001b[39;00m\n\u001b[1;32m    295\u001b[0m \u001b[39melif\u001b[39;00m response\u001b[39m.\u001b[39mstatus_code \u001b[39m==\u001b[39m \u001b[39m400\u001b[39m:\n\u001b[1;32m    296\u001b[0m     message \u001b[39m=\u001b[39m (\n\u001b[1;32m    297\u001b[0m         \u001b[39mf\u001b[39m\u001b[39m\"\u001b[39m\u001b[39m\\n\u001b[39;00m\u001b[39m\\n\u001b[39;00m\u001b[39mBad request for \u001b[39m\u001b[39m{\u001b[39;00mendpoint_name\u001b[39m}\u001b[39;00m\u001b[39m endpoint:\u001b[39m\u001b[39m\"\u001b[39m \u001b[39mif\u001b[39;00m endpoint_name \u001b[39mis\u001b[39;00m \u001b[39mnot\u001b[39;00m \u001b[39mNone\u001b[39;00m \u001b[39melse\u001b[39;00m \u001b[39m\"\u001b[39m\u001b[39m\\n\u001b[39;00m\u001b[39m\\n\u001b[39;00m\u001b[39mBad request:\u001b[39m\u001b[39m\"\u001b[39m\n\u001b[1;32m    298\u001b[0m     )\n",
      "\u001b[0;31mRepositoryNotFoundError\u001b[0m: 401 Client Error. (Request ID: Root=1-65096c6d-2513505f520bd81a56093c53;0d4b3105-4b47-4abd-831a-1a4eed6b4993)\n\nRepository Not Found for url: https://huggingface.co/speechbrain/enhance-masknn-mp-gc/resolve/main/hyperparams.yaml.\nPlease make sure you specified the correct `repo_id` and `repo_type`.\nIf you are trying to access a private or gated repo, make sure you are authenticated.\nInvalid username or password."
     ]
    }
   ],
   "source": [
    "# # Import the speechbrain library\n",
    "# import speechbrain as sb\n",
    "\n",
    "# # Load a pretrained model for speech enhancement\n",
    "# # You can choose from different models on their website \n",
    "# # For this example, we will use the spectral masking model\n",
    "# enhance_model = sb.pretrained.interfaces.SpectralMaskEnhancement.from_hparams(source=\"speechbrain/enhance-masknn-mp-gc\", savedir=\"pretrained_models/enhance-masknn-mp-gc\")\n",
    "\n",
    "# # Load an audio file of speech and noise\n",
    "# # You can use any wav file that you have or download one from their website \n",
    "# # For this example, we will use a file from their website\n",
    "\n",
    "# # Enhance the speech and suppress the noise using the model\n",
    "# enhanced_signal = enhance_model.enhance_file(audio_file)\n",
    "\n",
    "# # Save the enhanced signal to a wav file\n",
    "# enhanced_signal.to_file(\"enhanced.wav\")\n"
   ]
  }
 ],
 "metadata": {
  "kernelspec": {
   "display_name": "hindi-data",
   "language": "python",
   "name": "python3"
  },
  "language_info": {
   "codemirror_mode": {
    "name": "ipython",
    "version": 3
   },
   "file_extension": ".py",
   "mimetype": "text/x-python",
   "name": "python",
   "nbconvert_exporter": "python",
   "pygments_lexer": "ipython3",
   "version": "3.10.13"
  },
  "orig_nbformat": 4
 },
 "nbformat": 4,
 "nbformat_minor": 2
}
